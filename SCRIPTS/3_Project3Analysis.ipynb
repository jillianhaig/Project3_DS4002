{
  "cells": [
    {
      "cell_type": "markdown",
      "metadata": {
        "id": "view-in-github",
        "colab_type": "text"
      },
      "source": [
        "<a href=\"https://colab.research.google.com/github/jillianhaig/Project3_DS4002/blob/main/SCRIPTS/3_Project3Analysis.ipynb\" target=\"_parent\"><img src=\"https://colab.research.google.com/assets/colab-badge.svg\" alt=\"Open In Colab\"/></a>"
      ]
    },
    {
      "cell_type": "code",
      "source": [
        "# This code runs our model, first connecting to google drive and importing the\n",
        "# images into GitHub through Google Drive, since GitHub is not large enough to store the images"
      ],
      "metadata": {
        "id": "9MZ0axzBNsX9"
      },
      "execution_count": null,
      "outputs": []
    },
    {
      "cell_type": "code",
      "execution_count": 1,
      "metadata": {
        "colab": {
          "base_uri": "https://localhost:8080/"
        },
        "id": "LJYvZN8CUpnr",
        "outputId": "76e12c9b-2614-44a9-c28e-0bc2e99942a6"
      },
      "outputs": [
        {
          "output_type": "stream",
          "name": "stdout",
          "text": [
            "Mounted at /content/drive\n",
            "Dataset unzipped to: /content/vehicleimages\n"
          ]
        }
      ],
      "source": [
        "from google.colab import drive\n",
        "from google.colab import files\n",
        "import zipfile\n",
        "import os\n",
        "import pandas as pd\n",
        "\n",
        "# Mount Google Drive to access the dataset\n",
        "drive.mount('/content/drive')\n",
        "\n",
        "# Path to the zip file on Google Drive (need to change for your path)\n",
        "zip_file_path = '/content/drive/My Drive/vehicleimages.zip'\n",
        "\n",
        "# Directory where you want to extract the files\n",
        "extract_to_path = '/content/vehicleimages'\n",
        "\n",
        "# Unzip the dataset\n",
        "with zipfile.ZipFile(zip_file_path, 'r') as zip_ref:\n",
        "    zip_ref.extractall(extract_to_path)\n",
        "\n",
        "print(f\"Dataset unzipped to: {extract_to_path}\")\n",
        "\n",
        "image_paths = []\n",
        "labels = []\n",
        "\n",
        "vehicle_types = os.listdir(extract_to_path)\n",
        "\n",
        "# For each subdirectory, get image paths\n",
        "for vehicle_type in vehicle_types:\n",
        "    vehicle_folder = os.path.join(extract_to_path, vehicle_type)\n",
        "\n",
        "    if os.path.isdir(vehicle_folder):\n",
        "        for img_file in os.listdir(vehicle_folder):\n",
        "            if img_file.lower().endswith(('.jpg', '.jpeg', '.png', '.bmp')):\n",
        "                image_path = os.path.join(vehicle_folder, img_file)\n",
        "                image_paths.append(image_path)\n",
        "                labels.append(vehicle_type)\n",
        "\n",
        "df = pd.DataFrame({'image_path': image_paths, 'label': labels})"
      ]
    },
    {
      "cell_type": "markdown",
      "source": [
        "# CNN Model Construction and Compiling"
      ],
      "metadata": {
        "id": "MmuTtxwTcI8C"
      }
    },
    {
      "cell_type": "code",
      "source": [
        "import tensorflow as tf\n",
        "from tensorflow.keras import layers, models\n",
        "from tensorflow.keras.applications import ResNet50\n",
        "from tensorflow.keras.preprocessing.image import ImageDataGenerator\n",
        "from sklearn.model_selection import train_test_split\n",
        "\n",
        "# Assuming `df` is a pandas DataFrame with file paths to images and their corresponding labels\n",
        "# df should contain a column 'file_path' with paths to images and a column 'label' with corresponding class labels\n",
        "\n",
        "# Load the pre-trained ResNet50 model\n",
        "resnet50_base = ResNet50(weights='imagenet', include_top=False, input_shape=(224, 224, 3))\n",
        "\n",
        "# Freeze the layers of ResNet50 to prevent updating during initial training\n",
        "resnet50_base.trainable = False\n",
        "\n",
        "# Define the custom classification head\n",
        "model = models.Sequential([\n",
        "    resnet50_base,  # Pre-trained ResNet50 model\n",
        "    layers.GlobalAveragePooling2D(),  # Global Average Pooling layer\n",
        "    layers.Dense(512, activation='relu'),  # Fully connected layer\n",
        "    layers.Dropout(0.5),  # Dropout layer to prevent overfitting\n",
        "    layers.Dense(5, activation='softmax')  # Output layer with 5 units for 5 vehicle classes\n",
        "])\n",
        "\n",
        "# Compile the model\n",
        "model.compile(optimizer=tf.keras.optimizers.Adam(),\n",
        "              loss='categorical_crossentropy',\n",
        "              metrics=['accuracy'])\n",
        "\n",
        "# Display model architecture\n",
        "model.summary()\n"
      ],
      "metadata": {
        "id": "BEfIkTJucMmJ",
        "outputId": "2fb7eed6-4c3c-4b3d-8433-473efb1eba88",
        "colab": {
          "base_uri": "https://localhost:8080/",
          "height": 358
        }
      },
      "execution_count": 2,
      "outputs": [
        {
          "output_type": "stream",
          "name": "stdout",
          "text": [
            "Downloading data from https://storage.googleapis.com/tensorflow/keras-applications/resnet/resnet50_weights_tf_dim_ordering_tf_kernels_notop.h5\n",
            "\u001b[1m94765736/94765736\u001b[0m \u001b[32m━━━━━━━━━━━━━━━━━━━━\u001b[0m\u001b[37m\u001b[0m \u001b[1m5s\u001b[0m 0us/step\n"
          ]
        },
        {
          "output_type": "display_data",
          "data": {
            "text/plain": [
              "\u001b[1mModel: \"sequential\"\u001b[0m\n"
            ],
            "text/html": [
              "<pre style=\"white-space:pre;overflow-x:auto;line-height:normal;font-family:Menlo,'DejaVu Sans Mono',consolas,'Courier New',monospace\"><span style=\"font-weight: bold\">Model: \"sequential\"</span>\n",
              "</pre>\n"
            ]
          },
          "metadata": {}
        },
        {
          "output_type": "display_data",
          "data": {
            "text/plain": [
              "┏━━━━━━━━━━━━━━━━━━━━━━━━━━━━━━━━━━━━━━┳━━━━━━━━━━━━━━━━━━━━━━━━━━━━━┳━━━━━━━━━━━━━━━━━┓\n",
              "┃\u001b[1m \u001b[0m\u001b[1mLayer (type)                        \u001b[0m\u001b[1m \u001b[0m┃\u001b[1m \u001b[0m\u001b[1mOutput Shape               \u001b[0m\u001b[1m \u001b[0m┃\u001b[1m \u001b[0m\u001b[1m        Param #\u001b[0m\u001b[1m \u001b[0m┃\n",
              "┡━━━━━━━━━━━━━━━━━━━━━━━━━━━━━━━━━━━━━━╇━━━━━━━━━━━━━━━━━━━━━━━━━━━━━╇━━━━━━━━━━━━━━━━━┩\n",
              "│ resnet50 (\u001b[38;5;33mFunctional\u001b[0m)                │ (\u001b[38;5;45mNone\u001b[0m, \u001b[38;5;34m7\u001b[0m, \u001b[38;5;34m7\u001b[0m, \u001b[38;5;34m2048\u001b[0m)          │      \u001b[38;5;34m23,587,712\u001b[0m │\n",
              "├──────────────────────────────────────┼─────────────────────────────┼─────────────────┤\n",
              "│ global_average_pooling2d             │ (\u001b[38;5;45mNone\u001b[0m, \u001b[38;5;34m2048\u001b[0m)                │               \u001b[38;5;34m0\u001b[0m │\n",
              "│ (\u001b[38;5;33mGlobalAveragePooling2D\u001b[0m)             │                             │                 │\n",
              "├──────────────────────────────────────┼─────────────────────────────┼─────────────────┤\n",
              "│ dense (\u001b[38;5;33mDense\u001b[0m)                        │ (\u001b[38;5;45mNone\u001b[0m, \u001b[38;5;34m512\u001b[0m)                 │       \u001b[38;5;34m1,049,088\u001b[0m │\n",
              "├──────────────────────────────────────┼─────────────────────────────┼─────────────────┤\n",
              "│ dropout (\u001b[38;5;33mDropout\u001b[0m)                    │ (\u001b[38;5;45mNone\u001b[0m, \u001b[38;5;34m512\u001b[0m)                 │               \u001b[38;5;34m0\u001b[0m │\n",
              "├──────────────────────────────────────┼─────────────────────────────┼─────────────────┤\n",
              "│ dense_1 (\u001b[38;5;33mDense\u001b[0m)                      │ (\u001b[38;5;45mNone\u001b[0m, \u001b[38;5;34m5\u001b[0m)                   │           \u001b[38;5;34m2,565\u001b[0m │\n",
              "└──────────────────────────────────────┴─────────────────────────────┴─────────────────┘\n"
            ],
            "text/html": [
              "<pre style=\"white-space:pre;overflow-x:auto;line-height:normal;font-family:Menlo,'DejaVu Sans Mono',consolas,'Courier New',monospace\">┏━━━━━━━━━━━━━━━━━━━━━━━━━━━━━━━━━━━━━━┳━━━━━━━━━━━━━━━━━━━━━━━━━━━━━┳━━━━━━━━━━━━━━━━━┓\n",
              "┃<span style=\"font-weight: bold\"> Layer (type)                         </span>┃<span style=\"font-weight: bold\"> Output Shape                </span>┃<span style=\"font-weight: bold\">         Param # </span>┃\n",
              "┡━━━━━━━━━━━━━━━━━━━━━━━━━━━━━━━━━━━━━━╇━━━━━━━━━━━━━━━━━━━━━━━━━━━━━╇━━━━━━━━━━━━━━━━━┩\n",
              "│ resnet50 (<span style=\"color: #0087ff; text-decoration-color: #0087ff\">Functional</span>)                │ (<span style=\"color: #00d7ff; text-decoration-color: #00d7ff\">None</span>, <span style=\"color: #00af00; text-decoration-color: #00af00\">7</span>, <span style=\"color: #00af00; text-decoration-color: #00af00\">7</span>, <span style=\"color: #00af00; text-decoration-color: #00af00\">2048</span>)          │      <span style=\"color: #00af00; text-decoration-color: #00af00\">23,587,712</span> │\n",
              "├──────────────────────────────────────┼─────────────────────────────┼─────────────────┤\n",
              "│ global_average_pooling2d             │ (<span style=\"color: #00d7ff; text-decoration-color: #00d7ff\">None</span>, <span style=\"color: #00af00; text-decoration-color: #00af00\">2048</span>)                │               <span style=\"color: #00af00; text-decoration-color: #00af00\">0</span> │\n",
              "│ (<span style=\"color: #0087ff; text-decoration-color: #0087ff\">GlobalAveragePooling2D</span>)             │                             │                 │\n",
              "├──────────────────────────────────────┼─────────────────────────────┼─────────────────┤\n",
              "│ dense (<span style=\"color: #0087ff; text-decoration-color: #0087ff\">Dense</span>)                        │ (<span style=\"color: #00d7ff; text-decoration-color: #00d7ff\">None</span>, <span style=\"color: #00af00; text-decoration-color: #00af00\">512</span>)                 │       <span style=\"color: #00af00; text-decoration-color: #00af00\">1,049,088</span> │\n",
              "├──────────────────────────────────────┼─────────────────────────────┼─────────────────┤\n",
              "│ dropout (<span style=\"color: #0087ff; text-decoration-color: #0087ff\">Dropout</span>)                    │ (<span style=\"color: #00d7ff; text-decoration-color: #00d7ff\">None</span>, <span style=\"color: #00af00; text-decoration-color: #00af00\">512</span>)                 │               <span style=\"color: #00af00; text-decoration-color: #00af00\">0</span> │\n",
              "├──────────────────────────────────────┼─────────────────────────────┼─────────────────┤\n",
              "│ dense_1 (<span style=\"color: #0087ff; text-decoration-color: #0087ff\">Dense</span>)                      │ (<span style=\"color: #00d7ff; text-decoration-color: #00d7ff\">None</span>, <span style=\"color: #00af00; text-decoration-color: #00af00\">5</span>)                   │           <span style=\"color: #00af00; text-decoration-color: #00af00\">2,565</span> │\n",
              "└──────────────────────────────────────┴─────────────────────────────┴─────────────────┘\n",
              "</pre>\n"
            ]
          },
          "metadata": {}
        },
        {
          "output_type": "display_data",
          "data": {
            "text/plain": [
              "\u001b[1m Total params: \u001b[0m\u001b[38;5;34m24,639,365\u001b[0m (93.99 MB)\n"
            ],
            "text/html": [
              "<pre style=\"white-space:pre;overflow-x:auto;line-height:normal;font-family:Menlo,'DejaVu Sans Mono',consolas,'Courier New',monospace\"><span style=\"font-weight: bold\"> Total params: </span><span style=\"color: #00af00; text-decoration-color: #00af00\">24,639,365</span> (93.99 MB)\n",
              "</pre>\n"
            ]
          },
          "metadata": {}
        },
        {
          "output_type": "display_data",
          "data": {
            "text/plain": [
              "\u001b[1m Trainable params: \u001b[0m\u001b[38;5;34m1,051,653\u001b[0m (4.01 MB)\n"
            ],
            "text/html": [
              "<pre style=\"white-space:pre;overflow-x:auto;line-height:normal;font-family:Menlo,'DejaVu Sans Mono',consolas,'Courier New',monospace\"><span style=\"font-weight: bold\"> Trainable params: </span><span style=\"color: #00af00; text-decoration-color: #00af00\">1,051,653</span> (4.01 MB)\n",
              "</pre>\n"
            ]
          },
          "metadata": {}
        },
        {
          "output_type": "display_data",
          "data": {
            "text/plain": [
              "\u001b[1m Non-trainable params: \u001b[0m\u001b[38;5;34m23,587,712\u001b[0m (89.98 MB)\n"
            ],
            "text/html": [
              "<pre style=\"white-space:pre;overflow-x:auto;line-height:normal;font-family:Menlo,'DejaVu Sans Mono',consolas,'Courier New',monospace\"><span style=\"font-weight: bold\"> Non-trainable params: </span><span style=\"color: #00af00; text-decoration-color: #00af00\">23,587,712</span> (89.98 MB)\n",
              "</pre>\n"
            ]
          },
          "metadata": {}
        }
      ]
    },
    {
      "cell_type": "markdown",
      "source": [
        "# Initial Model Training"
      ],
      "metadata": {
        "id": "-avYcC9ucX5s"
      }
    },
    {
      "cell_type": "code",
      "source": [
        "from tensorflow.keras.callbacks import EarlyStopping\n",
        "\n",
        "# Preprocessing the data (resizing and normalizing images)\n",
        "image_size = (224, 224)\n",
        "\n",
        "# Create an ImageDataGenerator to load images with augmentation for training and validation\n",
        "train_datagen = ImageDataGenerator(\n",
        "    rescale=1./255,\n",
        "    rotation_range=20,\n",
        "    width_shift_range=0.2,\n",
        "    height_shift_range=0.2,\n",
        "    shear_range=0.2,\n",
        "    zoom_range=0.2,\n",
        "    horizontal_flip=True,\n",
        "    fill_mode='nearest'\n",
        ")\n",
        "\n",
        "validation_datagen = ImageDataGenerator(rescale=1./255)\n",
        "\n",
        "# Example of file paths and labels:\n",
        "# df['image_path'] - list of paths to images\n",
        "# df['label'] - list of integer class labels (0 to 4 for 5 vehicle types)\n",
        "\n",
        "# Train-test split (90-10 split)\n",
        "train_paths, val_paths, train_labels, val_labels = train_test_split(df['image_path'], df['label'], test_size=0.1, stratify=df['label'])\n",
        "\n",
        "# Create ImageDataGenerators for training and validation\n",
        "train_generator = train_datagen.flow_from_dataframe(\n",
        "    dataframe=df.loc[train_paths.index],\n",
        "    directory='/content',\n",
        "    x_col='image_path',\n",
        "    y_col='label',\n",
        "    target_size=image_size,\n",
        "    batch_size=32,\n",
        "    class_mode='categorical'\n",
        ")\n",
        "\n",
        "validation_generator = validation_datagen.flow_from_dataframe(\n",
        "    dataframe=df.loc[val_paths.index],\n",
        "    directory='/content',\n",
        "    x_col='image_path',\n",
        "    y_col='label',\n",
        "    target_size=image_size,\n",
        "    batch_size=32,\n",
        "    class_mode='categorical'\n",
        ")\n",
        "\n",
        "early_stopping = EarlyStopping(monitor='val_loss', patience=5, restore_best_weights=True)\n",
        "\n",
        "# Train the model\n",
        "history = model.fit(\n",
        "    train_generator,\n",
        "    epochs=5,  # Or any number you prefer, but EarlyStopping will stop early if necessary\n",
        "    validation_data=validation_generator,\n",
        "    verbose=1,\n",
        "    callbacks=[early_stopping]  # Add EarlyStopping\n",
        ")"
      ],
      "metadata": {
        "id": "-ePL7KJCcbpt",
        "outputId": "5de33566-b13d-4dab-e9a5-15a1c251e0d5",
        "colab": {
          "base_uri": "https://localhost:8080/"
        }
      },
      "execution_count": 3,
      "outputs": [
        {
          "output_type": "stream",
          "name": "stdout",
          "text": [
            "Found 3920 validated image filenames belonging to 5 classes.\n",
            "Found 436 validated image filenames belonging to 5 classes.\n",
            "Epoch 1/5\n"
          ]
        },
        {
          "output_type": "stream",
          "name": "stderr",
          "text": [
            "/usr/local/lib/python3.10/dist-packages/keras/src/trainers/data_adapters/py_dataset_adapter.py:122: UserWarning: Your `PyDataset` class should call `super().__init__(**kwargs)` in its constructor. `**kwargs` can include `workers`, `use_multiprocessing`, `max_queue_size`. Do not pass these arguments to `fit()`, as they will be ignored.\n",
            "  self._warn_if_super_not_called()\n"
          ]
        },
        {
          "output_type": "stream",
          "name": "stdout",
          "text": [
            "\u001b[1m123/123\u001b[0m \u001b[32m━━━━━━━━━━━━━━━━━━━━\u001b[0m\u001b[37m\u001b[0m \u001b[1m85s\u001b[0m 563ms/step - accuracy: 0.2767 - loss: 1.7182 - val_accuracy: 0.3028 - val_loss: 1.5245\n",
            "Epoch 2/5\n",
            "\u001b[1m123/123\u001b[0m \u001b[32m━━━━━━━━━━━━━━━━━━━━\u001b[0m\u001b[37m\u001b[0m \u001b[1m56s\u001b[0m 432ms/step - accuracy: 0.3082 - loss: 1.5385 - val_accuracy: 0.3280 - val_loss: 1.5004\n",
            "Epoch 3/5\n",
            "\u001b[1m123/123\u001b[0m \u001b[32m━━━━━━━━━━━━━━━━━━━━\u001b[0m\u001b[37m\u001b[0m \u001b[1m84s\u001b[0m 447ms/step - accuracy: 0.3231 - loss: 1.5152 - val_accuracy: 0.3303 - val_loss: 1.4985\n",
            "Epoch 4/5\n",
            "\u001b[1m123/123\u001b[0m \u001b[32m━━━━━━━━━━━━━━━━━━━━\u001b[0m\u001b[37m\u001b[0m \u001b[1m55s\u001b[0m 425ms/step - accuracy: 0.3459 - loss: 1.4948 - val_accuracy: 0.2982 - val_loss: 1.5320\n",
            "Epoch 5/5\n",
            "\u001b[1m123/123\u001b[0m \u001b[32m━━━━━━━━━━━━━━━━━━━━\u001b[0m\u001b[37m\u001b[0m \u001b[1m81s\u001b[0m 421ms/step - accuracy: 0.3340 - loss: 1.5068 - val_accuracy: 0.3349 - val_loss: 1.4739\n"
          ]
        }
      ]
    },
    {
      "cell_type": "markdown",
      "source": [
        "# Fine Tuning the Model"
      ],
      "metadata": {
        "id": "mU7BU74zdcEf"
      }
    },
    {
      "cell_type": "code",
      "source": [
        "# Unfreeze the top layers of ResNet50 for fine-tuning\n",
        "for layer in resnet50_base.layers[-10:]:  # Unfreeze the last 10 layers of ResNet50\n",
        "    layer.trainable = True\n",
        "\n",
        "# Recompile the model after unfreezing some layers\n",
        "model.compile(optimizer=tf.keras.optimizers.Adam(learning_rate=1e-5),\n",
        "              loss='categorical_crossentropy',\n",
        "              metrics=['accuracy'])\n",
        "\n",
        "# Fine-tune the model\n",
        "history_finetune = model.fit(\n",
        "    train_generator,\n",
        "    epochs=5,\n",
        "    validation_data=validation_generator,\n",
        "    verbose=1,\n",
        "    callbacks=[early_stopping]  # Add EarlyStopping\n",
        ")"
      ],
      "metadata": {
        "id": "43y--0IcdgZr",
        "outputId": "fce48eaa-0c62-4c1c-f04e-d34c05bf11e8",
        "colab": {
          "base_uri": "https://localhost:8080/"
        }
      },
      "execution_count": 4,
      "outputs": [
        {
          "output_type": "stream",
          "name": "stdout",
          "text": [
            "Epoch 1/5\n",
            "\u001b[1m123/123\u001b[0m \u001b[32m━━━━━━━━━━━━━━━━━━━━\u001b[0m\u001b[37m\u001b[0m \u001b[1m80s\u001b[0m 512ms/step - accuracy: 0.3225 - loss: 2.1699 - val_accuracy: 0.3211 - val_loss: 1.4880\n",
            "Epoch 2/5\n",
            "\u001b[1m123/123\u001b[0m \u001b[32m━━━━━━━━━━━━━━━━━━━━\u001b[0m\u001b[37m\u001b[0m \u001b[1m56s\u001b[0m 428ms/step - accuracy: 0.4032 - loss: 1.4091 - val_accuracy: 0.3326 - val_loss: 1.5295\n",
            "Epoch 3/5\n",
            "\u001b[1m123/123\u001b[0m \u001b[32m━━━━━━━━━━━━━━━━━━━━\u001b[0m\u001b[37m\u001b[0m \u001b[1m59s\u001b[0m 440ms/step - accuracy: 0.4467 - loss: 1.3646 - val_accuracy: 0.4472 - val_loss: 1.3352\n",
            "Epoch 4/5\n",
            "\u001b[1m123/123\u001b[0m \u001b[32m━━━━━━━━━━━━━━━━━━━━\u001b[0m\u001b[37m\u001b[0m \u001b[1m56s\u001b[0m 421ms/step - accuracy: 0.4274 - loss: 1.3334 - val_accuracy: 0.4679 - val_loss: 1.2335\n",
            "Epoch 5/5\n",
            "\u001b[1m123/123\u001b[0m \u001b[32m━━━━━━━━━━━━━━━━━━━━\u001b[0m\u001b[37m\u001b[0m \u001b[1m82s\u001b[0m 422ms/step - accuracy: 0.4456 - loss: 1.3069 - val_accuracy: 0.4931 - val_loss: 1.1816\n"
          ]
        }
      ]
    },
    {
      "cell_type": "markdown",
      "source": [
        "# Evaluation and Conclusion"
      ],
      "metadata": {
        "id": "lzucn-4Qdhnt"
      }
    },
    {
      "cell_type": "code",
      "source": [
        "import numpy as np\n",
        "from sklearn.model_selection import StratifiedKFold\n",
        "from sklearn.metrics import f1_score, accuracy_score\n",
        "from sklearn.preprocessing import LabelEncoder\n",
        "from tensorflow.keras.utils import to_categorical\n",
        "\n",
        "# Assuming you already have 'df', 'train_datagen', 'validation_datagen', 'model', 'early_stopping', and 'image_size'\n",
        "\n",
        "# Initialize the LabelEncoder\n",
        "label_encoder = LabelEncoder()\n",
        "df['label_encoded'] = label_encoder.fit_transform(df['label'])\n",
        "\n",
        "# List of the labels you want to calculate average accuracy for\n",
        "labels = [\"pickup\", \"suv\", \"other\", \"hatchback\", \"sedan\"]\n",
        "\n",
        "# K-fold cross-validation\n",
        "kfold = StratifiedKFold(n_splits=2, shuffle=True, random_state=42)\n",
        "accuracies = []\n",
        "f1_scores = []\n",
        "label_accuracies = {label: [] for label in labels}  # To store per-label accuracy for each fold\n",
        "\n",
        "for train_idx, test_idx in kfold.split(df['image_path'], df['label_encoded']):\n",
        "    # Split the data into training and testing\n",
        "    train_labels, test_labels = df['label_encoded'].iloc[train_idx], df['label_encoded'].iloc[test_idx]\n",
        "\n",
        "    # Prepare generators for training and testing\n",
        "    train_generator = train_datagen.flow_from_dataframe(\n",
        "        dataframe=df.loc[train_idx],\n",
        "        directory='/content',\n",
        "        x_col='image_path',\n",
        "        y_col='label',  # Use 'label' column which has the original string labels\n",
        "        target_size=image_size,\n",
        "        batch_size=32,\n",
        "        class_mode='categorical'\n",
        "    )\n",
        "\n",
        "    test_generator = validation_datagen.flow_from_dataframe(\n",
        "        dataframe=df.loc[test_idx],\n",
        "        directory='/content',\n",
        "        x_col='image_path',\n",
        "        y_col='label',  # Use 'label' column which has the original string labels\n",
        "        target_size=image_size,\n",
        "        batch_size=32,\n",
        "        class_mode='categorical'\n",
        "    )\n",
        "\n",
        "    # Train the model on the current fold\n",
        "    model.fit(train_generator, epochs=2, validation_data=test_generator, callbacks=[early_stopping])\n",
        "\n",
        "    # Evaluate the model on the test set\n",
        "    y_pred = model.predict(test_generator, verbose=1)\n",
        "    y_true = test_labels  # We use the encoded labels directly for evaluation\n",
        "\n",
        "    # Calculate overall accuracy and F1 score\n",
        "    acc = accuracy_score(y_true, y_pred.argmax(axis=1))\n",
        "    f1 = f1_score(y_true, y_pred.argmax(axis=1), average='weighted')\n",
        "\n",
        "    accuracies.append(acc)\n",
        "    f1_scores.append(f1)\n",
        "\n",
        "    # calculate per-label accuracy for this fold\n",
        "    for i, label in enumerate(labels):\n",
        "        label_idx = label_encoder.transform([label])[0]\n",
        "        label_mask = (y_true == label_idx)\n",
        "        if np.sum(label_mask) > 0:\n",
        "            # calculate accuracy for the current label\n",
        "            label_acc = accuracy_score(y_true[label_mask], y_pred[label_mask].argmax(axis=1))\n",
        "            label_accuracies[label].append(label_acc)\n",
        "\n",
        "# average accuracy for each label across all folds\n",
        "average_label_accuracies = {label: np.mean(accs) if accs else 0 for label, accs in label_accuracies.items()}"
      ],
      "metadata": {
        "colab": {
          "base_uri": "https://localhost:8080/"
        },
        "id": "hLdxUayNekq-",
        "outputId": "f0e4ce41-7f0b-44b9-ac4c-5e49b1ee88a5"
      },
      "execution_count": 18,
      "outputs": [
        {
          "output_type": "stream",
          "name": "stdout",
          "text": [
            "Found 2178 validated image filenames belonging to 5 classes.\n",
            "Found 2178 validated image filenames belonging to 5 classes.\n",
            "Epoch 1/2\n"
          ]
        },
        {
          "output_type": "stream",
          "name": "stderr",
          "text": [
            "/usr/local/lib/python3.10/dist-packages/keras/src/trainers/data_adapters/py_dataset_adapter.py:122: UserWarning: Your `PyDataset` class should call `super().__init__(**kwargs)` in its constructor. `**kwargs` can include `workers`, `use_multiprocessing`, `max_queue_size`. Do not pass these arguments to `fit()`, as they will be ignored.\n",
            "  self._warn_if_super_not_called()\n"
          ]
        },
        {
          "output_type": "stream",
          "name": "stdout",
          "text": [
            "\u001b[1m69/69\u001b[0m \u001b[32m━━━━━━━━━━━━━━━━━━━━\u001b[0m\u001b[37m\u001b[0m \u001b[1m41s\u001b[0m 553ms/step - accuracy: 0.6428 - loss: 0.9296 - val_accuracy: 0.7502 - val_loss: 0.7045\n",
            "Epoch 2/2\n",
            "\u001b[1m69/69\u001b[0m \u001b[32m━━━━━━━━━━━━━━━━━━━━\u001b[0m\u001b[37m\u001b[0m \u001b[1m56s\u001b[0m 782ms/step - accuracy: 0.6638 - loss: 0.8958 - val_accuracy: 0.6951 - val_loss: 0.7730\n",
            "\u001b[1m69/69\u001b[0m \u001b[32m━━━━━━━━━━━━━━━━━━━━\u001b[0m\u001b[37m\u001b[0m \u001b[1m6s\u001b[0m 87ms/step\n",
            "Found 2178 validated image filenames belonging to 5 classes.\n",
            "Found 2178 validated image filenames belonging to 5 classes.\n",
            "Epoch 1/2\n"
          ]
        },
        {
          "output_type": "stream",
          "name": "stderr",
          "text": [
            "/usr/local/lib/python3.10/dist-packages/keras/src/trainers/data_adapters/py_dataset_adapter.py:122: UserWarning: Your `PyDataset` class should call `super().__init__(**kwargs)` in its constructor. `**kwargs` can include `workers`, `use_multiprocessing`, `max_queue_size`. Do not pass these arguments to `fit()`, as they will be ignored.\n",
            "  self._warn_if_super_not_called()\n"
          ]
        },
        {
          "output_type": "stream",
          "name": "stdout",
          "text": [
            "\u001b[1m69/69\u001b[0m \u001b[32m━━━━━━━━━━━━━━━━━━━━\u001b[0m\u001b[37m\u001b[0m \u001b[1m37s\u001b[0m 503ms/step - accuracy: 0.6360 - loss: 0.9334 - val_accuracy: 0.7034 - val_loss: 0.7659\n",
            "Epoch 2/2\n",
            "\u001b[1m69/69\u001b[0m \u001b[32m━━━━━━━━━━━━━━━━━━━━\u001b[0m\u001b[37m\u001b[0m \u001b[1m40s\u001b[0m 550ms/step - accuracy: 0.6360 - loss: 0.9417 - val_accuracy: 0.7764 - val_loss: 0.6350\n",
            "\u001b[1m69/69\u001b[0m \u001b[32m━━━━━━━━━━━━━━━━━━━━\u001b[0m\u001b[37m\u001b[0m \u001b[1m6s\u001b[0m 86ms/step\n",
            "Average Accuracy for each label: {'pickup': 0.3612903225806452, 'suv': 0.13676470588235293, 'other': 0.13666666666666666, 'hatchback': 0.10066006600660066, 'sedan': 0.27723577235772356}\n"
          ]
        }
      ]
    },
    {
      "cell_type": "markdown",
      "source": [
        "# Results and Visualization"
      ],
      "metadata": {
        "id": "NLEnnCLt3ydq"
      }
    },
    {
      "cell_type": "code",
      "source": [
        "# print out the results\n",
        "print(\"Average accuracy for each label:\")\n",
        "for label, avg_acc in average_label_accuracies.items():\n",
        "    print(f\"{label}: {avg_acc:.4f}\")\n",
        "\n",
        "avg_accuracy = np.mean(accuracies)\n",
        "avg_f1_score = np.mean(f1_scores)\n",
        "\n",
        "print(f\"\\nAverage overall accuracy: {avg_accuracy:.4f}\")\n",
        "print(f\"Average weighted F1 score: {avg_f1_score:.4f}\")"
      ],
      "metadata": {
        "id": "wL4HCfKv31pr",
        "outputId": "2364a05d-d508-47d9-dd59-4032b38fa391",
        "colab": {
          "base_uri": "https://localhost:8080/"
        }
      },
      "execution_count": 19,
      "outputs": [
        {
          "output_type": "stream",
          "name": "stdout",
          "text": [
            "Average accuracy for each label:\n",
            "pickup: 0.3613\n",
            "suv: 0.1368\n",
            "other: 0.1367\n",
            "hatchback: 0.1007\n",
            "sedan: 0.2772\n",
            "\n",
            "Average overall accuracy: 0.2353\n",
            "Average weighted F1 score: 0.2275\n"
          ]
        }
      ]
    },
    {
      "cell_type": "code",
      "source": [
        "import matplotlib.pyplot as plt\n",
        "from sklearn.metrics import roc_curve, auc\n",
        "from sklearn.preprocessing import LabelBinarizer\n",
        "from sklearn.metrics import roc_auc_score\n",
        "\n",
        "# Assuming y_true and y_pred are already defined, and they are the true labels and predicted probabilities\n",
        "\n",
        "y_true_all = []\n",
        "y_probs_all = []\n",
        "\n",
        "# Store true labels and predicted probabilities for ROC curve\n",
        "y_true_all.append(y_true)\n",
        "y_probs_all.append(y_pred)\n",
        "\n",
        "# Convert lists of true labels and predicted probabilities to arrays\n",
        "y_true_all = np.concatenate(y_true_all, axis=0)\n",
        "y_probs_all = np.concatenate(y_probs_all, axis=0)\n",
        "\n",
        "# Binarize the true labels (multi-class to binary for each class)\n",
        "lb = LabelBinarizer()\n",
        "y_true_bin = lb.fit_transform(y_true_all)\n",
        "\n",
        "# Plot ROC curve for each class\n",
        "n_classes = y_true_bin.shape[1]\n",
        "plt.figure(figsize=(10, 8))\n",
        "\n",
        "# Loop over each class to plot its ROC curve\n",
        "for i in range(n_classes):\n",
        "    fpr, tpr, _ = roc_curve(y_true_bin[:, i], y_probs_all[:, i])\n",
        "    roc_auc = auc(fpr, tpr)\n",
        "    # Use lb.classes_ to get the actual class name for the index 'i'\n",
        "    class_name = lb.classes_[i]\n",
        "    # Plot the ROC curve for the current class with its AUC score\n",
        "    plt.plot(fpr, tpr, lw=2, label=f'{class_name} (AUC = {roc_auc:.2f})')\n",
        "\n",
        "# Plot the diagonal line (random classifier)\n",
        "plt.plot([0, 1], [0, 1], color='gray', linestyle='--', lw=2)\n",
        "\n",
        "# Formatting the plot\n",
        "plt.xlabel('False Positive Rate')\n",
        "plt.ylabel('True Positive Rate')\n",
        "plt.title('Receiver Operating Characteristic (ROC) Curve for Multi-Class Classification')\n",
        "\n",
        "# Show the legend with class names and AUC values\n",
        "plt.legend(loc='lower right')\n",
        "plt.show()\n"
      ],
      "metadata": {
        "id": "ZprDzTyF34lb",
        "colab": {
          "base_uri": "https://localhost:8080/",
          "height": 718
        },
        "outputId": "3ae18986-ad74-4364-b334-9da39559f30b"
      },
      "execution_count": 20,
      "outputs": [
        {
          "output_type": "display_data",
          "data": {
            "text/plain": [
              "<Figure size 1000x800 with 1 Axes>"
            ],
            "image/png": "[encoded data removed]"
          },
          "metadata": {}
        }
      ]
    }
  ],
  "metadata": {
    "colab": {
      "provenance": [],
      "gpuType": "T4",
      "include_colab_link": true
    },
    "kernelspec": {
      "display_name": "Python 3",
      "name": "python3"
    },
    "language_info": {
      "name": "python"
    },
    "accelerator": "GPU"
  },
  "nbformat": 4,
  "nbformat_minor": 0
}