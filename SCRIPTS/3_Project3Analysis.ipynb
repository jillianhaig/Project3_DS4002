{
  "cells": [
    {
      "cell_type": "markdown",
      "metadata": {
        "id": "view-in-github",
        "colab_type": "text"
      },
      "source": [
        "<a href=\"https://colab.research.google.com/github/jillianhaig/Project3_DS4002/blob/main/SCRIPTS/3_Project3Analysis.ipynb\" target=\"_parent\"><img src=\"https://colab.research.google.com/assets/colab-badge.svg\" alt=\"Open In Colab\"/></a>"
      ]
    },
    {
      "cell_type": "code",
      "source": [
        "# This code runs our model, first connecting to google drive and importing the\n",
        "# images into GitHub through Google Drive, since GitHub is not large enough to store the images"
      ],
      "metadata": {
        "id": "9MZ0axzBNsX9"
      },
      "execution_count": null,
      "outputs": []
    },
    {
      "cell_type": "code",
      "execution_count": 1,
      "metadata": {
        "colab": {
          "base_uri": "https://localhost:8080/"
        },
        "id": "LJYvZN8CUpnr",
        "outputId": "dae22698-83f3-4ec6-f63f-c28c5d219ca2"
      },
      "outputs": [
        {
          "output_type": "stream",
          "name": "stdout",
          "text": [
            "Mounted at /content/drive\n",
            "Dataset unzipped to: /content/vehicleimages\n"
          ]
        }
      ],
      "source": [
        "from google.colab import drive\n",
        "from google.colab import files\n",
        "import zipfile\n",
        "import os\n",
        "import pandas as pd\n",
        "\n",
        "drive.mount('/content/drive')\n",
        "\n",
        "# path to the zip file on Google Drive (need to change for your path)\n",
        "zip_file_path = '/content/drive/My Drive/vehicleimages.zip'\n",
        "\n",
        "# directory where you want to extract the files\n",
        "extract_to_path = '/content/vehicleimages'\n",
        "\n",
        "with zipfile.ZipFile(zip_file_path, 'r') as zip_ref:\n",
        "    zip_ref.extractall(extract_to_path)\n",
        "\n",
        "print(f\"Dataset unzipped to: {extract_to_path}\")\n",
        "\n",
        "image_paths = []\n",
        "labels = []\n",
        "\n",
        "vehicle_types = os.listdir(extract_to_path)\n",
        "\n",
        "# get image paths\n",
        "for vehicle_type in vehicle_types:\n",
        "    vehicle_folder = os.path.join(extract_to_path, vehicle_type)\n",
        "\n",
        "    if os.path.isdir(vehicle_folder):\n",
        "        for img_file in os.listdir(vehicle_folder):\n",
        "            if img_file.lower().endswith(('.jpg', '.jpeg', '.png', '.bmp')):\n",
        "                image_path = os.path.join(vehicle_folder, img_file)\n",
        "                image_paths.append(image_path)\n",
        "                labels.append(vehicle_type)\n",
        "\n",
        "df = pd.DataFrame({'image_path': image_paths, 'label': labels})"
      ]
    },
    {
      "cell_type": "markdown",
      "source": [
        "# CNN Model Construction and Compiling"
      ],
      "metadata": {
        "id": "MmuTtxwTcI8C"
      }
    },
    {
      "cell_type": "code",
      "source": [
        "import tensorflow as tf\n",
        "from tensorflow.keras import layers, models\n",
        "from tensorflow.keras.applications import ResNet50\n",
        "from tensorflow.keras.preprocessing.image import ImageDataGenerator\n",
        "from sklearn.model_selection import train_test_split\n",
        "\n",
        "# load the pre-trained ResNet50 model\n",
        "resnet50_base = ResNet50(weights='imagenet', include_top=False, input_shape=(224, 224, 3))\n",
        "\n",
        "# freeze the layers to prevent updating during initial training\n",
        "resnet50_base.trainable = False\n",
        "\n",
        "# define the custom classification head\n",
        "model = models.Sequential([\n",
        "    resnet50_base,\n",
        "    layers.GlobalAveragePooling2D(),  # Global Average Pooling layer\n",
        "    layers.Dense(512, activation='relu'),  # fully connected layer\n",
        "    layers.Dropout(0.5),  # dropout layer to prevent overfitting\n",
        "    layers.Dense(5, activation='softmax')  # output layer with 5 units for 5 vehicle classes\n",
        "])\n",
        "\n",
        "# compile the model\n",
        "model.compile(optimizer=tf.keras.optimizers.Adam(),\n",
        "              loss='categorical_crossentropy',\n",
        "              metrics=['accuracy'])\n",
        "\n",
        "model.summary()\n"
      ],
      "metadata": {
        "id": "BEfIkTJucMmJ",
        "outputId": "070a5b9b-a22e-47b9-c929-394b9b5dc07b",
        "colab": {
          "base_uri": "https://localhost:8080/",
          "height": 340
        }
      },
      "execution_count": 2,
      "outputs": [
        {
          "output_type": "stream",
          "name": "stdout",
          "text": [
            "Downloading data from https://storage.googleapis.com/tensorflow/keras-applications/resnet/resnet50_weights_tf_dim_ordering_tf_kernels_notop.h5\n",
            "\u001b[1m94765736/94765736\u001b[0m \u001b[32m━━━━━━━━━━━━━━━━━━━━\u001b[0m\u001b[37m\u001b[0m \u001b[1m4s\u001b[0m 0us/step\n"
          ]
        },
        {
          "output_type": "display_data",
          "data": {
            "text/plain": [
              "\u001b[1mModel: \"sequential\"\u001b[0m\n"
            ],
            "text/html": [
              "<pre style=\"white-space:pre;overflow-x:auto;line-height:normal;font-family:Menlo,'DejaVu Sans Mono',consolas,'Courier New',monospace\"><span style=\"font-weight: bold\">Model: \"sequential\"</span>\n",
              "</pre>\n"
            ]
          },
          "metadata": {}
        },
        {
          "output_type": "display_data",
          "data": {
            "text/plain": [
              "┏━━━━━━━━━━━━━━━━━━━━━━━━━━━━━━━━━━━━━━┳━━━━━━━━━━━━━━━━━━━━━━━━━━━━━┳━━━━━━━━━━━━━━━━━┓\n",
              "┃\u001b[1m \u001b[0m\u001b[1mLayer (type)                        \u001b[0m\u001b[1m \u001b[0m┃\u001b[1m \u001b[0m\u001b[1mOutput Shape               \u001b[0m\u001b[1m \u001b[0m┃\u001b[1m \u001b[0m\u001b[1m        Param #\u001b[0m\u001b[1m \u001b[0m┃\n",
              "┡━━━━━━━━━━━━━━━━━━━━━━━━━━━━━━━━━━━━━━╇━━━━━━━━━━━━━━━━━━━━━━━━━━━━━╇━━━━━━━━━━━━━━━━━┩\n",
              "│ resnet50 (\u001b[38;5;33mFunctional\u001b[0m)                │ (\u001b[38;5;45mNone\u001b[0m, \u001b[38;5;34m7\u001b[0m, \u001b[38;5;34m7\u001b[0m, \u001b[38;5;34m2048\u001b[0m)          │      \u001b[38;5;34m23,587,712\u001b[0m │\n",
              "├──────────────────────────────────────┼─────────────────────────────┼─────────────────┤\n",
              "│ global_average_pooling2d             │ (\u001b[38;5;45mNone\u001b[0m, \u001b[38;5;34m2048\u001b[0m)                │               \u001b[38;5;34m0\u001b[0m │\n",
              "│ (\u001b[38;5;33mGlobalAveragePooling2D\u001b[0m)             │                             │                 │\n",
              "├──────────────────────────────────────┼─────────────────────────────┼─────────────────┤\n",
              "│ dense (\u001b[38;5;33mDense\u001b[0m)                        │ (\u001b[38;5;45mNone\u001b[0m, \u001b[38;5;34m512\u001b[0m)                 │       \u001b[38;5;34m1,049,088\u001b[0m │\n",
              "├──────────────────────────────────────┼─────────────────────────────┼─────────────────┤\n",
              "│ dropout (\u001b[38;5;33mDropout\u001b[0m)                    │ (\u001b[38;5;45mNone\u001b[0m, \u001b[38;5;34m512\u001b[0m)                 │               \u001b[38;5;34m0\u001b[0m │\n",
              "├──────────────────────────────────────┼─────────────────────────────┼─────────────────┤\n",
              "│ dense_1 (\u001b[38;5;33mDense\u001b[0m)                      │ (\u001b[38;5;45mNone\u001b[0m, \u001b[38;5;34m5\u001b[0m)                   │           \u001b[38;5;34m2,565\u001b[0m │\n",
              "└──────────────────────────────────────┴─────────────────────────────┴─────────────────┘\n"
            ],
            "text/html": [
              "<pre style=\"white-space:pre;overflow-x:auto;line-height:normal;font-family:Menlo,'DejaVu Sans Mono',consolas,'Courier New',monospace\">┏━━━━━━━━━━━━━━━━━━━━━━━━━━━━━━━━━━━━━━┳━━━━━━━━━━━━━━━━━━━━━━━━━━━━━┳━━━━━━━━━━━━━━━━━┓\n",
              "┃<span style=\"font-weight: bold\"> Layer (type)                         </span>┃<span style=\"font-weight: bold\"> Output Shape                </span>┃<span style=\"font-weight: bold\">         Param # </span>┃\n",
              "┡━━━━━━━━━━━━━━━━━━━━━━━━━━━━━━━━━━━━━━╇━━━━━━━━━━━━━━━━━━━━━━━━━━━━━╇━━━━━━━━━━━━━━━━━┩\n",
              "│ resnet50 (<span style=\"color: #0087ff; text-decoration-color: #0087ff\">Functional</span>)                │ (<span style=\"color: #00d7ff; text-decoration-color: #00d7ff\">None</span>, <span style=\"color: #00af00; text-decoration-color: #00af00\">7</span>, <span style=\"color: #00af00; text-decoration-color: #00af00\">7</span>, <span style=\"color: #00af00; text-decoration-color: #00af00\">2048</span>)          │      <span style=\"color: #00af00; text-decoration-color: #00af00\">23,587,712</span> │\n",
              "├──────────────────────────────────────┼─────────────────────────────┼─────────────────┤\n",
              "│ global_average_pooling2d             │ (<span style=\"color: #00d7ff; text-decoration-color: #00d7ff\">None</span>, <span style=\"color: #00af00; text-decoration-color: #00af00\">2048</span>)                │               <span style=\"color: #00af00; text-decoration-color: #00af00\">0</span> │\n",
              "│ (<span style=\"color: #0087ff; text-decoration-color: #0087ff\">GlobalAveragePooling2D</span>)             │                             │                 │\n",
              "├──────────────────────────────────────┼─────────────────────────────┼─────────────────┤\n",
              "│ dense (<span style=\"color: #0087ff; text-decoration-color: #0087ff\">Dense</span>)                        │ (<span style=\"color: #00d7ff; text-decoration-color: #00d7ff\">None</span>, <span style=\"color: #00af00; text-decoration-color: #00af00\">512</span>)                 │       <span style=\"color: #00af00; text-decoration-color: #00af00\">1,049,088</span> │\n",
              "├──────────────────────────────────────┼─────────────────────────────┼─────────────────┤\n",
              "│ dropout (<span style=\"color: #0087ff; text-decoration-color: #0087ff\">Dropout</span>)                    │ (<span style=\"color: #00d7ff; text-decoration-color: #00d7ff\">None</span>, <span style=\"color: #00af00; text-decoration-color: #00af00\">512</span>)                 │               <span style=\"color: #00af00; text-decoration-color: #00af00\">0</span> │\n",
              "├──────────────────────────────────────┼─────────────────────────────┼─────────────────┤\n",
              "│ dense_1 (<span style=\"color: #0087ff; text-decoration-color: #0087ff\">Dense</span>)                      │ (<span style=\"color: #00d7ff; text-decoration-color: #00d7ff\">None</span>, <span style=\"color: #00af00; text-decoration-color: #00af00\">5</span>)                   │           <span style=\"color: #00af00; text-decoration-color: #00af00\">2,565</span> │\n",
              "└──────────────────────────────────────┴─────────────────────────────┴─────────────────┘\n",
              "</pre>\n"
            ]
          },
          "metadata": {}
        },
        {
          "output_type": "display_data",
          "data": {
            "text/plain": [
              "\u001b[1m Total params: \u001b[0m\u001b[38;5;34m24,639,365\u001b[0m (93.99 MB)\n"
            ],
            "text/html": [
              "<pre style=\"white-space:pre;overflow-x:auto;line-height:normal;font-family:Menlo,'DejaVu Sans Mono',consolas,'Courier New',monospace\"><span style=\"font-weight: bold\"> Total params: </span><span style=\"color: #00af00; text-decoration-color: #00af00\">24,639,365</span> (93.99 MB)\n",
              "</pre>\n"
            ]
          },
          "metadata": {}
        },
        {
          "output_type": "display_data",
          "data": {
            "text/plain": [
              "\u001b[1m Trainable params: \u001b[0m\u001b[38;5;34m1,051,653\u001b[0m (4.01 MB)\n"
            ],
            "text/html": [
              "<pre style=\"white-space:pre;overflow-x:auto;line-height:normal;font-family:Menlo,'DejaVu Sans Mono',consolas,'Courier New',monospace\"><span style=\"font-weight: bold\"> Trainable params: </span><span style=\"color: #00af00; text-decoration-color: #00af00\">1,051,653</span> (4.01 MB)\n",
              "</pre>\n"
            ]
          },
          "metadata": {}
        },
        {
          "output_type": "display_data",
          "data": {
            "text/plain": [
              "\u001b[1m Non-trainable params: \u001b[0m\u001b[38;5;34m23,587,712\u001b[0m (89.98 MB)\n"
            ],
            "text/html": [
              "<pre style=\"white-space:pre;overflow-x:auto;line-height:normal;font-family:Menlo,'DejaVu Sans Mono',consolas,'Courier New',monospace\"><span style=\"font-weight: bold\"> Non-trainable params: </span><span style=\"color: #00af00; text-decoration-color: #00af00\">23,587,712</span> (89.98 MB)\n",
              "</pre>\n"
            ]
          },
          "metadata": {}
        }
      ]
    },
    {
      "cell_type": "markdown",
      "source": [
        "# Initial Model Training"
      ],
      "metadata": {
        "id": "-avYcC9ucX5s"
      }
    },
    {
      "cell_type": "code",
      "source": [
        "from tensorflow.keras.callbacks import EarlyStopping\n",
        "\n",
        "# resizing and normalizing images\n",
        "image_size = (224, 224)\n",
        "\n",
        "# create an ImageDataGenerator to load images for training and validation\n",
        "train_datagen = ImageDataGenerator(\n",
        "    rescale=1./255,\n",
        "    rotation_range=20,\n",
        "    width_shift_range=0.2,\n",
        "    height_shift_range=0.2,\n",
        "    shear_range=0.2,\n",
        "    zoom_range=0.2,\n",
        "    horizontal_flip=True,\n",
        "    fill_mode='nearest'\n",
        ")\n",
        "\n",
        "validation_datagen = ImageDataGenerator(rescale=1./255)\n",
        "\n",
        "# 90-10 split\n",
        "train_paths, val_paths, train_labels, val_labels = train_test_split(df['image_path'], df['label'], test_size=0.1, stratify=df['label'])\n",
        "\n",
        "train_generator = train_datagen.flow_from_dataframe(\n",
        "    dataframe=df.loc[train_paths.index],\n",
        "    directory='/content',\n",
        "    x_col='image_path',\n",
        "    y_col='label',\n",
        "    target_size=image_size,\n",
        "    batch_size=32,\n",
        "    class_mode='categorical'\n",
        ")\n",
        "\n",
        "validation_generator = validation_datagen.flow_from_dataframe(\n",
        "    dataframe=df.loc[val_paths.index],\n",
        "    directory='/content',\n",
        "    x_col='image_path',\n",
        "    y_col='label',\n",
        "    target_size=image_size,\n",
        "    batch_size=32,\n",
        "    class_mode='categorical'\n",
        ")\n",
        "\n",
        "early_stopping = EarlyStopping(monitor='val_loss', patience=5, restore_best_weights=True)\n",
        "\n",
        "# train the model\n",
        "history = model.fit(\n",
        "    train_generator,\n",
        "    epochs=50,\n",
        "    validation_data=validation_generator,\n",
        "    verbose=1,\n",
        "    callbacks=[early_stopping]  # add EarlyStopping to stop when overfitting happens\n",
        ")"
      ],
      "metadata": {
        "id": "-ePL7KJCcbpt",
        "outputId": "4147f698-3aad-4243-aeec-1e7ba9d87b2e",
        "colab": {
          "base_uri": "https://localhost:8080/"
        }
      },
      "execution_count": 3,
      "outputs": [
        {
          "output_type": "stream",
          "name": "stdout",
          "text": [
            "Found 3920 validated image filenames belonging to 5 classes.\n",
            "Found 436 validated image filenames belonging to 5 classes.\n",
            "Epoch 1/50\n"
          ]
        },
        {
          "output_type": "stream",
          "name": "stderr",
          "text": [
            "/usr/local/lib/python3.10/dist-packages/keras/src/trainers/data_adapters/py_dataset_adapter.py:122: UserWarning: Your `PyDataset` class should call `super().__init__(**kwargs)` in its constructor. `**kwargs` can include `workers`, `use_multiprocessing`, `max_queue_size`. Do not pass these arguments to `fit()`, as they will be ignored.\n",
            "  self._warn_if_super_not_called()\n"
          ]
        },
        {
          "output_type": "stream",
          "name": "stdout",
          "text": [
            "\u001b[1m123/123\u001b[0m \u001b[32m━━━━━━━━━━━━━━━━━━━━\u001b[0m\u001b[37m\u001b[0m \u001b[1m81s\u001b[0m 529ms/step - accuracy: 0.2640 - loss: 1.7801 - val_accuracy: 0.3624 - val_loss: 1.5045\n",
            "Epoch 2/50\n",
            "\u001b[1m123/123\u001b[0m \u001b[32m━━━━━━━━━━━━━━━━━━━━\u001b[0m\u001b[37m\u001b[0m \u001b[1m61s\u001b[0m 413ms/step - accuracy: 0.3307 - loss: 1.5211 - val_accuracy: 0.3647 - val_loss: 1.5018\n",
            "Epoch 3/50\n",
            "\u001b[1m123/123\u001b[0m \u001b[32m━━━━━━━━━━━━━━━━━━━━\u001b[0m\u001b[37m\u001b[0m \u001b[1m84s\u001b[0m 427ms/step - accuracy: 0.3280 - loss: 1.5269 - val_accuracy: 0.3761 - val_loss: 1.4663\n",
            "Epoch 4/50\n",
            "\u001b[1m123/123\u001b[0m \u001b[32m━━━━━━━━━━━━━━━━━━━━\u001b[0m\u001b[37m\u001b[0m \u001b[1m56s\u001b[0m 433ms/step - accuracy: 0.3332 - loss: 1.5106 - val_accuracy: 0.3876 - val_loss: 1.4569\n",
            "Epoch 5/50\n",
            "\u001b[1m123/123\u001b[0m \u001b[32m━━━━━━━━━━━━━━━━━━━━\u001b[0m\u001b[37m\u001b[0m \u001b[1m55s\u001b[0m 426ms/step - accuracy: 0.3472 - loss: 1.5089 - val_accuracy: 0.4014 - val_loss: 1.4454\n",
            "Epoch 6/50\n",
            "\u001b[1m123/123\u001b[0m \u001b[32m━━━━━━━━━━━━━━━━━━━━\u001b[0m\u001b[37m\u001b[0m \u001b[1m80s\u001b[0m 412ms/step - accuracy: 0.3533 - loss: 1.5057 - val_accuracy: 0.3096 - val_loss: 1.4801\n",
            "Epoch 7/50\n",
            "\u001b[1m123/123\u001b[0m \u001b[32m━━━━━━━━━━━━━━━━━━━━\u001b[0m\u001b[37m\u001b[0m \u001b[1m54s\u001b[0m 412ms/step - accuracy: 0.3452 - loss: 1.4822 - val_accuracy: 0.3876 - val_loss: 1.4142\n",
            "Epoch 8/50\n",
            "\u001b[1m123/123\u001b[0m \u001b[32m━━━━━━━━━━━━━━━━━━━━\u001b[0m\u001b[37m\u001b[0m \u001b[1m107s\u001b[0m 603ms/step - accuracy: 0.3587 - loss: 1.4734 - val_accuracy: 0.3991 - val_loss: 1.4156\n",
            "Epoch 9/50\n",
            "\u001b[1m123/123\u001b[0m \u001b[32m━━━━━━━━━━━━━━━━━━━━\u001b[0m\u001b[37m\u001b[0m \u001b[1m76s\u001b[0m 558ms/step - accuracy: 0.3526 - loss: 1.4810 - val_accuracy: 0.3303 - val_loss: 1.4386\n",
            "Epoch 10/50\n",
            "\u001b[1m123/123\u001b[0m \u001b[32m━━━━━━━━━━━━━━━━━━━━\u001b[0m\u001b[37m\u001b[0m \u001b[1m88s\u001b[0m 624ms/step - accuracy: 0.3600 - loss: 1.4668 - val_accuracy: 0.3876 - val_loss: 1.3790\n",
            "Epoch 11/50\n",
            "\u001b[1m123/123\u001b[0m \u001b[32m━━━━━━━━━━━━━━━━━━━━\u001b[0m\u001b[37m\u001b[0m \u001b[1m62s\u001b[0m 465ms/step - accuracy: 0.3795 - loss: 1.4495 - val_accuracy: 0.4312 - val_loss: 1.3587\n",
            "Epoch 12/50\n",
            "\u001b[1m123/123\u001b[0m \u001b[32m━━━━━━━━━━━━━━━━━━━━\u001b[0m\u001b[37m\u001b[0m \u001b[1m78s\u001b[0m 446ms/step - accuracy: 0.3831 - loss: 1.4587 - val_accuracy: 0.4243 - val_loss: 1.3462\n",
            "Epoch 13/50\n",
            "\u001b[1m123/123\u001b[0m \u001b[32m━━━━━━━━━━━━━━━━━━━━\u001b[0m\u001b[37m\u001b[0m \u001b[1m57s\u001b[0m 436ms/step - accuracy: 0.3905 - loss: 1.4272 - val_accuracy: 0.4518 - val_loss: 1.3225\n",
            "Epoch 14/50\n",
            "\u001b[1m123/123\u001b[0m \u001b[32m━━━━━━━━━━━━━━━━━━━━\u001b[0m\u001b[37m\u001b[0m \u001b[1m82s\u001b[0m 433ms/step - accuracy: 0.3926 - loss: 1.4361 - val_accuracy: 0.4541 - val_loss: 1.3203\n",
            "Epoch 15/50\n",
            "\u001b[1m123/123\u001b[0m \u001b[32m━━━━━━━━━━━━━━━━━━━━\u001b[0m\u001b[37m\u001b[0m \u001b[1m59s\u001b[0m 453ms/step - accuracy: 0.3814 - loss: 1.4436 - val_accuracy: 0.4725 - val_loss: 1.3087\n",
            "Epoch 16/50\n",
            "\u001b[1m123/123\u001b[0m \u001b[32m━━━━━━━━━━━━━━━━━━━━\u001b[0m\u001b[37m\u001b[0m \u001b[1m56s\u001b[0m 428ms/step - accuracy: 0.3927 - loss: 1.4227 - val_accuracy: 0.4495 - val_loss: 1.3088\n",
            "Epoch 17/50\n",
            "\u001b[1m123/123\u001b[0m \u001b[32m━━━━━━━━━━━━━━━━━━━━\u001b[0m\u001b[37m\u001b[0m \u001b[1m82s\u001b[0m 425ms/step - accuracy: 0.4091 - loss: 1.4164 - val_accuracy: 0.4633 - val_loss: 1.2981\n",
            "Epoch 18/50\n",
            "\u001b[1m123/123\u001b[0m \u001b[32m━━━━━━━━━━━━━━━━━━━━\u001b[0m\u001b[37m\u001b[0m \u001b[1m82s\u001b[0m 421ms/step - accuracy: 0.3938 - loss: 1.4279 - val_accuracy: 0.4748 - val_loss: 1.2924\n",
            "Epoch 19/50\n",
            "\u001b[1m123/123\u001b[0m \u001b[32m━━━━━━━━━━━━━━━━━━━━\u001b[0m\u001b[37m\u001b[0m \u001b[1m82s\u001b[0m 423ms/step - accuracy: 0.4057 - loss: 1.4185 - val_accuracy: 0.4335 - val_loss: 1.3146\n",
            "Epoch 20/50\n",
            "\u001b[1m123/123\u001b[0m \u001b[32m━━━━━━━━━━━━━━━━━━━━\u001b[0m\u001b[37m\u001b[0m \u001b[1m58s\u001b[0m 437ms/step - accuracy: 0.3940 - loss: 1.4194 - val_accuracy: 0.4794 - val_loss: 1.2958\n",
            "Epoch 21/50\n",
            "\u001b[1m123/123\u001b[0m \u001b[32m━━━━━━━━━━━━━━━━━━━━\u001b[0m\u001b[37m\u001b[0m \u001b[1m57s\u001b[0m 438ms/step - accuracy: 0.4132 - loss: 1.4147 - val_accuracy: 0.4908 - val_loss: 1.2747\n",
            "Epoch 22/50\n",
            "\u001b[1m123/123\u001b[0m \u001b[32m━━━━━━━━━━━━━━━━━━━━\u001b[0m\u001b[37m\u001b[0m \u001b[1m56s\u001b[0m 434ms/step - accuracy: 0.4117 - loss: 1.4225 - val_accuracy: 0.5344 - val_loss: 1.2567\n",
            "Epoch 23/50\n",
            "\u001b[1m123/123\u001b[0m \u001b[32m━━━━━━━━━━━━━━━━━━━━\u001b[0m\u001b[37m\u001b[0m \u001b[1m81s\u001b[0m 423ms/step - accuracy: 0.4019 - loss: 1.4145 - val_accuracy: 0.5046 - val_loss: 1.2656\n",
            "Epoch 24/50\n",
            "\u001b[1m123/123\u001b[0m \u001b[32m━━━━━━━━━━━━━━━━━━━━\u001b[0m\u001b[37m\u001b[0m \u001b[1m81s\u001b[0m 419ms/step - accuracy: 0.4152 - loss: 1.4225 - val_accuracy: 0.4587 - val_loss: 1.2985\n",
            "Epoch 25/50\n",
            "\u001b[1m123/123\u001b[0m \u001b[32m━━━━━━━━━━━━━━━━━━━━\u001b[0m\u001b[37m\u001b[0m \u001b[1m86s\u001b[0m 450ms/step - accuracy: 0.4029 - loss: 1.4108 - val_accuracy: 0.5298 - val_loss: 1.2228\n",
            "Epoch 26/50\n",
            "\u001b[1m123/123\u001b[0m \u001b[32m━━━━━━━━━━━━━━━━━━━━\u001b[0m\u001b[37m\u001b[0m \u001b[1m83s\u001b[0m 455ms/step - accuracy: 0.4077 - loss: 1.4100 - val_accuracy: 0.4885 - val_loss: 1.2251\n",
            "Epoch 27/50\n",
            "\u001b[1m123/123\u001b[0m \u001b[32m━━━━━━━━━━━━━━━━━━━━\u001b[0m\u001b[37m\u001b[0m \u001b[1m78s\u001b[0m 428ms/step - accuracy: 0.4306 - loss: 1.3764 - val_accuracy: 0.4839 - val_loss: 1.2529\n",
            "Epoch 28/50\n",
            "\u001b[1m123/123\u001b[0m \u001b[32m━━━━━━━━━━━━━━━━━━━━\u001b[0m\u001b[37m\u001b[0m \u001b[1m55s\u001b[0m 424ms/step - accuracy: 0.4269 - loss: 1.3801 - val_accuracy: 0.5688 - val_loss: 1.1720\n",
            "Epoch 29/50\n",
            "\u001b[1m123/123\u001b[0m \u001b[32m━━━━━━━━━━━━━━━━━━━━\u001b[0m\u001b[37m\u001b[0m \u001b[1m57s\u001b[0m 435ms/step - accuracy: 0.4191 - loss: 1.3954 - val_accuracy: 0.5252 - val_loss: 1.2270\n",
            "Epoch 30/50\n",
            "\u001b[1m123/123\u001b[0m \u001b[32m━━━━━━━━━━━━━━━━━━━━\u001b[0m\u001b[37m\u001b[0m \u001b[1m81s\u001b[0m 433ms/step - accuracy: 0.4243 - loss: 1.3911 - val_accuracy: 0.5734 - val_loss: 1.2070\n",
            "Epoch 31/50\n",
            "\u001b[1m123/123\u001b[0m \u001b[32m━━━━━━━━━━━━━━━━━━━━\u001b[0m\u001b[37m\u001b[0m \u001b[1m55s\u001b[0m 427ms/step - accuracy: 0.4372 - loss: 1.3571 - val_accuracy: 0.5688 - val_loss: 1.1895\n",
            "Epoch 32/50\n",
            "\u001b[1m123/123\u001b[0m \u001b[32m━━━━━━━━━━━━━━━━━━━━\u001b[0m\u001b[37m\u001b[0m \u001b[1m55s\u001b[0m 418ms/step - accuracy: 0.4081 - loss: 1.4163 - val_accuracy: 0.5642 - val_loss: 1.1874\n",
            "Epoch 33/50\n",
            "\u001b[1m123/123\u001b[0m \u001b[32m━━━━━━━━━━━━━━━━━━━━\u001b[0m\u001b[37m\u001b[0m \u001b[1m56s\u001b[0m 420ms/step - accuracy: 0.4054 - loss: 1.4024 - val_accuracy: 0.5459 - val_loss: 1.2055\n"
          ]
        }
      ]
    },
    {
      "cell_type": "markdown",
      "source": [
        "# Fine Tuning the Model"
      ],
      "metadata": {
        "id": "mU7BU74zdcEf"
      }
    },
    {
      "cell_type": "code",
      "source": [
        "# unfreeze the top layers of ResNet50 for fine-tuning\n",
        "for layer in resnet50_base.layers[-10:]:\n",
        "    layer.trainable = True\n",
        "\n",
        "# recompile the model\n",
        "model.compile(optimizer=tf.keras.optimizers.Adam(learning_rate=1e-5),\n",
        "              loss='categorical_crossentropy',\n",
        "              metrics=['accuracy'])\n",
        "\n",
        "history_finetune = model.fit(\n",
        "    train_generator,\n",
        "    epochs=50,\n",
        "    validation_data=validation_generator,\n",
        "    verbose=1,\n",
        "    callbacks=[early_stopping]\n",
        ")"
      ],
      "metadata": {
        "id": "43y--0IcdgZr",
        "outputId": "0e1ad557-d4cb-4672-a88f-34ca9045724c",
        "colab": {
          "base_uri": "https://localhost:8080/"
        }
      },
      "execution_count": 4,
      "outputs": [
        {
          "output_type": "stream",
          "name": "stdout",
          "text": [
            "Epoch 1/50\n",
            "\u001b[1m123/123\u001b[0m \u001b[32m━━━━━━━━━━━━━━━━━━━━\u001b[0m\u001b[37m\u001b[0m \u001b[1m81s\u001b[0m 516ms/step - accuracy: 0.3554 - loss: 3.6612 - val_accuracy: 0.3050 - val_loss: 1.5130\n",
            "Epoch 2/50\n",
            "\u001b[1m123/123\u001b[0m \u001b[32m━━━━━━━━━━━━━━━━━━━━\u001b[0m\u001b[37m\u001b[0m \u001b[1m65s\u001b[0m 419ms/step - accuracy: 0.4117 - loss: 1.4516 - val_accuracy: 0.4587 - val_loss: 1.3766\n",
            "Epoch 3/50\n",
            "\u001b[1m123/123\u001b[0m \u001b[32m━━━━━━━━━━━━━━━━━━━━\u001b[0m\u001b[37m\u001b[0m \u001b[1m83s\u001b[0m 432ms/step - accuracy: 0.4281 - loss: 1.3967 - val_accuracy: 0.5252 - val_loss: 1.2986\n",
            "Epoch 4/50\n",
            "\u001b[1m123/123\u001b[0m \u001b[32m━━━━━━━━━━━━━━━━━━━━\u001b[0m\u001b[37m\u001b[0m \u001b[1m56s\u001b[0m 430ms/step - accuracy: 0.4610 - loss: 1.3107 - val_accuracy: 0.5894 - val_loss: 1.1219\n",
            "Epoch 5/50\n",
            "\u001b[1m123/123\u001b[0m \u001b[32m━━━━━━━━━━━━━━━━━━━━\u001b[0m\u001b[37m\u001b[0m \u001b[1m82s\u001b[0m 434ms/step - accuracy: 0.4750 - loss: 1.2867 - val_accuracy: 0.5826 - val_loss: 1.1274\n",
            "Epoch 6/50\n",
            "\u001b[1m123/123\u001b[0m \u001b[32m━━━━━━━━━━━━━━━━━━━━\u001b[0m\u001b[37m\u001b[0m \u001b[1m58s\u001b[0m 449ms/step - accuracy: 0.4667 - loss: 1.2731 - val_accuracy: 0.6101 - val_loss: 1.0905\n",
            "Epoch 7/50\n",
            "\u001b[1m123/123\u001b[0m \u001b[32m━━━━━━━━━━━━━━━━━━━━\u001b[0m\u001b[37m\u001b[0m \u001b[1m55s\u001b[0m 429ms/step - accuracy: 0.4973 - loss: 1.2432 - val_accuracy: 0.6124 - val_loss: 1.1217\n",
            "Epoch 8/50\n",
            "\u001b[1m123/123\u001b[0m \u001b[32m━━━━━━━━━━━━━━━━━━━━\u001b[0m\u001b[37m\u001b[0m \u001b[1m82s\u001b[0m 429ms/step - accuracy: 0.5169 - loss: 1.2143 - val_accuracy: 0.6353 - val_loss: 1.0016\n",
            "Epoch 9/50\n",
            "\u001b[1m123/123\u001b[0m \u001b[32m━━━━━━━━━━━━━━━━━━━━\u001b[0m\u001b[37m\u001b[0m \u001b[1m82s\u001b[0m 434ms/step - accuracy: 0.5138 - loss: 1.2077 - val_accuracy: 0.6376 - val_loss: 0.9964\n",
            "Epoch 10/50\n",
            "\u001b[1m123/123\u001b[0m \u001b[32m━━━━━━━━━━━━━━━━━━━━\u001b[0m\u001b[37m\u001b[0m \u001b[1m82s\u001b[0m 433ms/step - accuracy: 0.5216 - loss: 1.1841 - val_accuracy: 0.6537 - val_loss: 0.8951\n",
            "Epoch 11/50\n",
            "\u001b[1m123/123\u001b[0m \u001b[32m━━━━━━━━━━━━━━━━━━━━\u001b[0m\u001b[37m\u001b[0m \u001b[1m56s\u001b[0m 433ms/step - accuracy: 0.5323 - loss: 1.1686 - val_accuracy: 0.6583 - val_loss: 0.8553\n",
            "Epoch 12/50\n",
            "\u001b[1m123/123\u001b[0m \u001b[32m━━━━━━━━━━━━━━━━━━━━\u001b[0m\u001b[37m\u001b[0m \u001b[1m81s\u001b[0m 430ms/step - accuracy: 0.5156 - loss: 1.1939 - val_accuracy: 0.6514 - val_loss: 0.9058\n",
            "Epoch 13/50\n",
            "\u001b[1m123/123\u001b[0m \u001b[32m━━━━━━━━━━━━━━━━━━━━\u001b[0m\u001b[37m\u001b[0m \u001b[1m56s\u001b[0m 434ms/step - accuracy: 0.5279 - loss: 1.1646 - val_accuracy: 0.6239 - val_loss: 0.9792\n",
            "Epoch 14/50\n",
            "\u001b[1m123/123\u001b[0m \u001b[32m━━━━━━━━━━━━━━━━━━━━\u001b[0m\u001b[37m\u001b[0m \u001b[1m57s\u001b[0m 430ms/step - accuracy: 0.5463 - loss: 1.1189 - val_accuracy: 0.6514 - val_loss: 0.8582\n",
            "Epoch 15/50\n",
            "\u001b[1m123/123\u001b[0m \u001b[32m━━━━━━━━━━━━━━━━━━━━\u001b[0m\u001b[37m\u001b[0m \u001b[1m56s\u001b[0m 435ms/step - accuracy: 0.5648 - loss: 1.1257 - val_accuracy: 0.6560 - val_loss: 0.8405\n",
            "Epoch 16/50\n",
            "\u001b[1m123/123\u001b[0m \u001b[32m━━━━━━━━━━━━━━━━━━━━\u001b[0m\u001b[37m\u001b[0m \u001b[1m82s\u001b[0m 431ms/step - accuracy: 0.5438 - loss: 1.1243 - val_accuracy: 0.6514 - val_loss: 0.8752\n",
            "Epoch 17/50\n",
            "\u001b[1m123/123\u001b[0m \u001b[32m━━━━━━━━━━━━━━━━━━━━\u001b[0m\u001b[37m\u001b[0m \u001b[1m57s\u001b[0m 448ms/step - accuracy: 0.5597 - loss: 1.1177 - val_accuracy: 0.6583 - val_loss: 0.8402\n",
            "Epoch 18/50\n",
            "\u001b[1m123/123\u001b[0m \u001b[32m━━━━━━━━━━━━━━━━━━━━\u001b[0m\u001b[37m\u001b[0m \u001b[1m78s\u001b[0m 420ms/step - accuracy: 0.5568 - loss: 1.1131 - val_accuracy: 0.6537 - val_loss: 0.8211\n",
            "Epoch 19/50\n",
            "\u001b[1m123/123\u001b[0m \u001b[32m━━━━━━━━━━━━━━━━━━━━\u001b[0m\u001b[37m\u001b[0m \u001b[1m82s\u001b[0m 424ms/step - accuracy: 0.5646 - loss: 1.0875 - val_accuracy: 0.6881 - val_loss: 0.7925\n",
            "Epoch 20/50\n",
            "\u001b[1m123/123\u001b[0m \u001b[32m━━━━━━━━━━━━━━━━━━━━\u001b[0m\u001b[37m\u001b[0m \u001b[1m53s\u001b[0m 414ms/step - accuracy: 0.5741 - loss: 1.0961 - val_accuracy: 0.6927 - val_loss: 0.7717\n",
            "Epoch 21/50\n",
            "\u001b[1m123/123\u001b[0m \u001b[32m━━━━━━━━━━━━━━━━━━━━\u001b[0m\u001b[37m\u001b[0m \u001b[1m55s\u001b[0m 425ms/step - accuracy: 0.5522 - loss: 1.1237 - val_accuracy: 0.6468 - val_loss: 0.9815\n",
            "Epoch 22/50\n",
            "\u001b[1m123/123\u001b[0m \u001b[32m━━━━━━━━━━━━━━━━━━━━\u001b[0m\u001b[37m\u001b[0m \u001b[1m80s\u001b[0m 416ms/step - accuracy: 0.5823 - loss: 1.0619 - val_accuracy: 0.6674 - val_loss: 0.7950\n",
            "Epoch 23/50\n",
            "\u001b[1m123/123\u001b[0m \u001b[32m━━━━━━━━━━━━━━━━━━━━\u001b[0m\u001b[37m\u001b[0m \u001b[1m83s\u001b[0m 426ms/step - accuracy: 0.5742 - loss: 1.0661 - val_accuracy: 0.6995 - val_loss: 0.7552\n",
            "Epoch 24/50\n",
            "\u001b[1m123/123\u001b[0m \u001b[32m━━━━━━━━━━━━━━━━━━━━\u001b[0m\u001b[37m\u001b[0m \u001b[1m85s\u001b[0m 446ms/step - accuracy: 0.5819 - loss: 1.0604 - val_accuracy: 0.6399 - val_loss: 0.8401\n",
            "Epoch 25/50\n",
            "\u001b[1m123/123\u001b[0m \u001b[32m━━━━━━━━━━━━━━━━━━━━\u001b[0m\u001b[37m\u001b[0m \u001b[1m80s\u001b[0m 434ms/step - accuracy: 0.6020 - loss: 1.0528 - val_accuracy: 0.6950 - val_loss: 0.7309\n",
            "Epoch 26/50\n",
            "\u001b[1m123/123\u001b[0m \u001b[32m━━━━━━━━━━━━━━━━━━━━\u001b[0m\u001b[37m\u001b[0m \u001b[1m56s\u001b[0m 434ms/step - accuracy: 0.5794 - loss: 1.0772 - val_accuracy: 0.6812 - val_loss: 0.8045\n",
            "Epoch 27/50\n",
            "\u001b[1m123/123\u001b[0m \u001b[32m━━━━━━━━━━━━━━━━━━━━\u001b[0m\u001b[37m\u001b[0m \u001b[1m56s\u001b[0m 435ms/step - accuracy: 0.6083 - loss: 1.0127 - val_accuracy: 0.7225 - val_loss: 0.7263\n",
            "Epoch 28/50\n",
            "\u001b[1m123/123\u001b[0m \u001b[32m━━━━━━━━━━━━━━━━━━━━\u001b[0m\u001b[37m\u001b[0m \u001b[1m82s\u001b[0m 436ms/step - accuracy: 0.5887 - loss: 1.0519 - val_accuracy: 0.7018 - val_loss: 0.7316\n",
            "Epoch 29/50\n",
            "\u001b[1m123/123\u001b[0m \u001b[32m━━━━━━━━━━━━━━━━━━━━\u001b[0m\u001b[37m\u001b[0m \u001b[1m56s\u001b[0m 436ms/step - accuracy: 0.5950 - loss: 1.0432 - val_accuracy: 0.7202 - val_loss: 0.7280\n",
            "Epoch 30/50\n",
            "\u001b[1m123/123\u001b[0m \u001b[32m━━━━━━━━━━━━━━━━━━━━\u001b[0m\u001b[37m\u001b[0m \u001b[1m55s\u001b[0m 428ms/step - accuracy: 0.5956 - loss: 1.0216 - val_accuracy: 0.7294 - val_loss: 0.7280\n",
            "Epoch 31/50\n",
            "\u001b[1m123/123\u001b[0m \u001b[32m━━━━━━━━━━━━━━━━━━━━\u001b[0m\u001b[37m\u001b[0m \u001b[1m58s\u001b[0m 450ms/step - accuracy: 0.6034 - loss: 1.0066 - val_accuracy: 0.6995 - val_loss: 0.6928\n",
            "Epoch 32/50\n",
            "\u001b[1m123/123\u001b[0m \u001b[32m━━━━━━━━━━━━━━━━━━━━\u001b[0m\u001b[37m\u001b[0m \u001b[1m54s\u001b[0m 418ms/step - accuracy: 0.5840 - loss: 1.0574 - val_accuracy: 0.6170 - val_loss: 0.9331\n",
            "Epoch 33/50\n",
            "\u001b[1m123/123\u001b[0m \u001b[32m━━━━━━━━━━━━━━━━━━━━\u001b[0m\u001b[37m\u001b[0m \u001b[1m56s\u001b[0m 431ms/step - accuracy: 0.6093 - loss: 1.0166 - val_accuracy: 0.6995 - val_loss: 0.7402\n",
            "Epoch 34/50\n",
            "\u001b[1m123/123\u001b[0m \u001b[32m━━━━━━━━━━━━━━━━━━━━\u001b[0m\u001b[37m\u001b[0m \u001b[1m56s\u001b[0m 432ms/step - accuracy: 0.6167 - loss: 1.0096 - val_accuracy: 0.6812 - val_loss: 0.8310\n",
            "Epoch 35/50\n",
            "\u001b[1m123/123\u001b[0m \u001b[32m━━━━━━━━━━━━━━━━━━━━\u001b[0m\u001b[37m\u001b[0m \u001b[1m84s\u001b[0m 452ms/step - accuracy: 0.6061 - loss: 0.9925 - val_accuracy: 0.6904 - val_loss: 0.7414\n",
            "Epoch 36/50\n",
            "\u001b[1m123/123\u001b[0m \u001b[32m━━━━━━━━━━━━━━━━━━━━\u001b[0m\u001b[37m\u001b[0m \u001b[1m55s\u001b[0m 426ms/step - accuracy: 0.6227 - loss: 0.9601 - val_accuracy: 0.7294 - val_loss: 0.6977\n"
          ]
        }
      ]
    },
    {
      "cell_type": "markdown",
      "source": [
        "# Evaluation and Conclusion"
      ],
      "metadata": {
        "id": "lzucn-4Qdhnt"
      }
    },
    {
      "cell_type": "code",
      "source": [
        "import numpy as np\n",
        "from sklearn.model_selection import StratifiedKFold\n",
        "from sklearn.metrics import f1_score, accuracy_score\n",
        "from sklearn.preprocessing import LabelEncoder\n",
        "from tensorflow.keras.utils import to_categorical\n",
        "\n",
        "\n",
        "# initialize the LabelEncoder\n",
        "label_encoder = LabelEncoder()\n",
        "df['label_encoded'] = label_encoder.fit_transform(df['label'])\n",
        "\n",
        "# list of the labels to calculate average accuracy for\n",
        "labels = [\"pickup\", \"suv\", \"other\", \"hatchback\", \"sedan\"]\n",
        "\n",
        "# K-fold cross-validation\n",
        "kfold = StratifiedKFold(n_splits=10, shuffle=True, random_state=42)\n",
        "accuracies = []\n",
        "f1_scores = []\n",
        "label_accuracies = {label: [] for label in labels}\n",
        "\n",
        "for train_idx, test_idx in kfold.split(df['image_path'], df['label_encoded']):\n",
        "    # training and testing\n",
        "    train_labels, test_labels = df['label_encoded'].iloc[train_idx], df['label_encoded'].iloc[test_idx]\n",
        "\n",
        "    # prepare generators for train and test\n",
        "    train_generator = train_datagen.flow_from_dataframe(\n",
        "        dataframe=df.loc[train_idx],\n",
        "        directory='/content',\n",
        "        x_col='image_path',\n",
        "        y_col='label',\n",
        "        target_size=image_size,\n",
        "        batch_size=32,\n",
        "        class_mode='categorical'\n",
        "    )\n",
        "\n",
        "    test_generator = validation_datagen.flow_from_dataframe(\n",
        "        dataframe=df.loc[test_idx],\n",
        "        directory='/content',\n",
        "        x_col='image_path',\n",
        "        y_col='label',\n",
        "        target_size=image_size,\n",
        "        batch_size=32,\n",
        "        class_mode='categorical'\n",
        "    )\n",
        "\n",
        "    # train the model on the current fold\n",
        "    model.fit(train_generator, epochs=50, validation_data=test_generator, callbacks=[early_stopping])\n",
        "\n",
        "    # evaluate the model on the test set\n",
        "    y_pred = model.predict(test_generator, verbose=1)\n",
        "    y_true = test_labels\n",
        "\n",
        "    # calculate overall accuracy and F1 score\n",
        "    acc = accuracy_score(y_true, y_pred.argmax(axis=1))\n",
        "    f1 = f1_score(y_true, y_pred.argmax(axis=1), average='weighted')\n",
        "\n",
        "    accuracies.append(acc)\n",
        "    f1_scores.append(f1)\n",
        "\n",
        "    # calculate per-label accuracy for this fold\n",
        "    for i, label in enumerate(labels):\n",
        "        label_idx = label_encoder.transform([label])[0]\n",
        "        label_mask = (y_true == label_idx)\n",
        "        if np.sum(label_mask) > 0:\n",
        "            # calculate accuracy for the current label\n",
        "            label_acc = accuracy_score(y_true[label_mask], y_pred[label_mask].argmax(axis=1))\n",
        "            label_accuracies[label].append(label_acc)\n",
        "\n",
        "# average accuracy for each label across all folds\n",
        "average_label_accuracies = {label: np.mean(accs) if accs else 0 for label, accs in label_accuracies.items()}"
      ],
      "metadata": {
        "colab": {
          "base_uri": "https://localhost:8080/"
        },
        "id": "hLdxUayNekq-",
        "outputId": "d78ba221-6de2-4fa3-dbf9-dfa3fb702975"
      },
      "execution_count": 5,
      "outputs": [
        {
          "output_type": "stream",
          "name": "stdout",
          "text": [
            "Found 3920 validated image filenames belonging to 5 classes.\n",
            "Found 436 validated image filenames belonging to 5 classes.\n",
            "Epoch 1/50\n"
          ]
        },
        {
          "output_type": "stream",
          "name": "stderr",
          "text": [
            "/usr/local/lib/python3.10/dist-packages/keras/src/trainers/data_adapters/py_dataset_adapter.py:122: UserWarning: Your `PyDataset` class should call `super().__init__(**kwargs)` in its constructor. `**kwargs` can include `workers`, `use_multiprocessing`, `max_queue_size`. Do not pass these arguments to `fit()`, as they will be ignored.\n",
            "  self._warn_if_super_not_called()\n"
          ]
        },
        {
          "output_type": "stream",
          "name": "stdout",
          "text": [
            "\u001b[1m123/123\u001b[0m \u001b[32m━━━━━━━━━━━━━━━━━━━━\u001b[0m\u001b[37m\u001b[0m \u001b[1m56s\u001b[0m 432ms/step - accuracy: 0.5980 - loss: 1.0260 - val_accuracy: 0.6950 - val_loss: 0.7458\n",
            "Epoch 2/50\n",
            "\u001b[1m123/123\u001b[0m \u001b[32m━━━━━━━━━━━━━━━━━━━━\u001b[0m\u001b[37m\u001b[0m \u001b[1m54s\u001b[0m 413ms/step - accuracy: 0.6295 - loss: 0.9961 - val_accuracy: 0.6904 - val_loss: 0.7801\n",
            "Epoch 3/50\n",
            "\u001b[1m123/123\u001b[0m \u001b[32m━━━━━━━━━━━━━━━━━━━━\u001b[0m\u001b[37m\u001b[0m \u001b[1m55s\u001b[0m 412ms/step - accuracy: 0.6018 - loss: 1.0092 - val_accuracy: 0.6491 - val_loss: 0.8535\n",
            "Epoch 4/50\n",
            "\u001b[1m123/123\u001b[0m \u001b[32m━━━━━━━━━━━━━━━━━━━━\u001b[0m\u001b[37m\u001b[0m \u001b[1m55s\u001b[0m 424ms/step - accuracy: 0.6175 - loss: 0.9867 - val_accuracy: 0.6674 - val_loss: 0.8210\n",
            "Epoch 5/50\n",
            "\u001b[1m123/123\u001b[0m \u001b[32m━━━━━━━━━━━━━━━━━━━━\u001b[0m\u001b[37m\u001b[0m \u001b[1m83s\u001b[0m 428ms/step - accuracy: 0.6296 - loss: 0.9902 - val_accuracy: 0.6789 - val_loss: 0.7593\n",
            "\u001b[1m14/14\u001b[0m \u001b[32m━━━━━━━━━━━━━━━━━━━━\u001b[0m\u001b[37m\u001b[0m \u001b[1m8s\u001b[0m 306ms/step\n",
            "Found 3920 validated image filenames belonging to 5 classes.\n",
            "Found 436 validated image filenames belonging to 5 classes.\n",
            "Epoch 1/50\n"
          ]
        },
        {
          "output_type": "stream",
          "name": "stderr",
          "text": [
            "/usr/local/lib/python3.10/dist-packages/keras/src/trainers/data_adapters/py_dataset_adapter.py:122: UserWarning: Your `PyDataset` class should call `super().__init__(**kwargs)` in its constructor. `**kwargs` can include `workers`, `use_multiprocessing`, `max_queue_size`. Do not pass these arguments to `fit()`, as they will be ignored.\n",
            "  self._warn_if_super_not_called()\n"
          ]
        },
        {
          "output_type": "stream",
          "name": "stdout",
          "text": [
            "\u001b[1m123/123\u001b[0m \u001b[32m━━━━━━━━━━━━━━━━━━━━\u001b[0m\u001b[37m\u001b[0m \u001b[1m56s\u001b[0m 433ms/step - accuracy: 0.6150 - loss: 1.0247 - val_accuracy: 0.5734 - val_loss: 1.0319\n",
            "Epoch 2/50\n",
            "\u001b[1m123/123\u001b[0m \u001b[32m━━━━━━━━━━━━━━━━━━━━\u001b[0m\u001b[37m\u001b[0m \u001b[1m82s\u001b[0m 431ms/step - accuracy: 0.6092 - loss: 0.9891 - val_accuracy: 0.5872 - val_loss: 1.0542\n",
            "Epoch 3/50\n",
            "\u001b[1m123/123\u001b[0m \u001b[32m━━━━━━━━━━━━━━━━━━━━\u001b[0m\u001b[37m\u001b[0m \u001b[1m57s\u001b[0m 442ms/step - accuracy: 0.5997 - loss: 1.0271 - val_accuracy: 0.7064 - val_loss: 0.7427\n",
            "Epoch 4/50\n",
            "\u001b[1m123/123\u001b[0m \u001b[32m━━━━━━━━━━━━━━━━━━━━\u001b[0m\u001b[37m\u001b[0m \u001b[1m79s\u001b[0m 423ms/step - accuracy: 0.6093 - loss: 1.0237 - val_accuracy: 0.7202 - val_loss: 0.7241\n",
            "Epoch 5/50\n",
            "\u001b[1m123/123\u001b[0m \u001b[32m━━━━━━━━━━━━━━━━━━━━\u001b[0m\u001b[37m\u001b[0m \u001b[1m82s\u001b[0m 426ms/step - accuracy: 0.5948 - loss: 1.0079 - val_accuracy: 0.6445 - val_loss: 0.8546\n",
            "\u001b[1m14/14\u001b[0m \u001b[32m━━━━━━━━━━━━━━━━━━━━\u001b[0m\u001b[37m\u001b[0m \u001b[1m1s\u001b[0m 85ms/step\n",
            "Found 3920 validated image filenames belonging to 5 classes.\n",
            "Found 436 validated image filenames belonging to 5 classes.\n",
            "Epoch 1/50\n"
          ]
        },
        {
          "output_type": "stream",
          "name": "stderr",
          "text": [
            "/usr/local/lib/python3.10/dist-packages/keras/src/trainers/data_adapters/py_dataset_adapter.py:122: UserWarning: Your `PyDataset` class should call `super().__init__(**kwargs)` in its constructor. `**kwargs` can include `workers`, `use_multiprocessing`, `max_queue_size`. Do not pass these arguments to `fit()`, as they will be ignored.\n",
            "  self._warn_if_super_not_called()\n"
          ]
        },
        {
          "output_type": "stream",
          "name": "stdout",
          "text": [
            "\u001b[1m123/123\u001b[0m \u001b[32m━━━━━━━━━━━━━━━━━━━━\u001b[0m\u001b[37m\u001b[0m \u001b[1m58s\u001b[0m 451ms/step - accuracy: 0.6203 - loss: 0.9679 - val_accuracy: 0.6697 - val_loss: 0.8604\n",
            "Epoch 2/50\n",
            "\u001b[1m123/123\u001b[0m \u001b[32m━━━━━━━━━━━━━━━━━━━━\u001b[0m\u001b[37m\u001b[0m \u001b[1m55s\u001b[0m 433ms/step - accuracy: 0.6208 - loss: 1.0145 - val_accuracy: 0.6927 - val_loss: 0.7720\n",
            "Epoch 3/50\n",
            "\u001b[1m123/123\u001b[0m \u001b[32m━━━━━━━━━━━━━━━━━━━━\u001b[0m\u001b[37m\u001b[0m \u001b[1m56s\u001b[0m 433ms/step - accuracy: 0.6272 - loss: 0.9630 - val_accuracy: 0.7041 - val_loss: 0.7523\n",
            "Epoch 4/50\n",
            "\u001b[1m123/123\u001b[0m \u001b[32m━━━━━━━━━━━━━━━━━━━━\u001b[0m\u001b[37m\u001b[0m \u001b[1m55s\u001b[0m 427ms/step - accuracy: 0.6170 - loss: 0.9864 - val_accuracy: 0.6560 - val_loss: 0.8614\n",
            "Epoch 5/50\n",
            "\u001b[1m123/123\u001b[0m \u001b[32m━━━━━━━━━━━━━━━━━━━━\u001b[0m\u001b[37m\u001b[0m \u001b[1m85s\u001b[0m 449ms/step - accuracy: 0.6322 - loss: 0.9522 - val_accuracy: 0.6995 - val_loss: 0.7363\n",
            "\u001b[1m14/14\u001b[0m \u001b[32m━━━━━━━━━━━━━━━━━━━━\u001b[0m\u001b[37m\u001b[0m \u001b[1m1s\u001b[0m 83ms/step\n",
            "Found 3920 validated image filenames belonging to 5 classes.\n",
            "Found 436 validated image filenames belonging to 5 classes.\n",
            "Epoch 1/50\n"
          ]
        },
        {
          "output_type": "stream",
          "name": "stderr",
          "text": [
            "/usr/local/lib/python3.10/dist-packages/keras/src/trainers/data_adapters/py_dataset_adapter.py:122: UserWarning: Your `PyDataset` class should call `super().__init__(**kwargs)` in its constructor. `**kwargs` can include `workers`, `use_multiprocessing`, `max_queue_size`. Do not pass these arguments to `fit()`, as they will be ignored.\n",
            "  self._warn_if_super_not_called()\n"
          ]
        },
        {
          "output_type": "stream",
          "name": "stdout",
          "text": [
            "\u001b[1m123/123\u001b[0m \u001b[32m━━━━━━━━━━━━━━━━━━━━\u001b[0m\u001b[37m\u001b[0m \u001b[1m56s\u001b[0m 436ms/step - accuracy: 0.6098 - loss: 0.9879 - val_accuracy: 0.7179 - val_loss: 0.7282\n",
            "Epoch 2/50\n",
            "\u001b[1m123/123\u001b[0m \u001b[32m━━━━━━━━━━━━━━━━━━━━\u001b[0m\u001b[37m\u001b[0m \u001b[1m55s\u001b[0m 430ms/step - accuracy: 0.6048 - loss: 1.0016 - val_accuracy: 0.6904 - val_loss: 0.7957\n",
            "Epoch 3/50\n",
            "\u001b[1m123/123\u001b[0m \u001b[32m━━━━━━━━━━━━━━━━━━━━\u001b[0m\u001b[37m\u001b[0m \u001b[1m81s\u001b[0m 425ms/step - accuracy: 0.6168 - loss: 0.9757 - val_accuracy: 0.6697 - val_loss: 0.8509\n",
            "Epoch 4/50\n",
            "\u001b[1m123/123\u001b[0m \u001b[32m━━━━━━━━━━━━━━━━━━━━\u001b[0m\u001b[37m\u001b[0m \u001b[1m58s\u001b[0m 439ms/step - accuracy: 0.6259 - loss: 0.9766 - val_accuracy: 0.7294 - val_loss: 0.6722\n",
            "Epoch 5/50\n",
            "\u001b[1m123/123\u001b[0m \u001b[32m━━━━━━━━━━━━━━━━━━━━\u001b[0m\u001b[37m\u001b[0m \u001b[1m56s\u001b[0m 434ms/step - accuracy: 0.6318 - loss: 0.9667 - val_accuracy: 0.7041 - val_loss: 0.7702\n",
            "Epoch 6/50\n",
            "\u001b[1m123/123\u001b[0m \u001b[32m━━━━━━━━━━━━━━━━━━━━\u001b[0m\u001b[37m\u001b[0m \u001b[1m56s\u001b[0m 433ms/step - accuracy: 0.6203 - loss: 0.9649 - val_accuracy: 0.7362 - val_loss: 0.6459\n",
            "Epoch 7/50\n",
            "\u001b[1m123/123\u001b[0m \u001b[32m━━━━━━━━━━━━━━━━━━━━\u001b[0m\u001b[37m\u001b[0m \u001b[1m55s\u001b[0m 428ms/step - accuracy: 0.6204 - loss: 0.9536 - val_accuracy: 0.7523 - val_loss: 0.6565\n",
            "Epoch 8/50\n",
            "\u001b[1m123/123\u001b[0m \u001b[32m━━━━━━━━━━━━━━━━━━━━\u001b[0m\u001b[37m\u001b[0m \u001b[1m82s\u001b[0m 431ms/step - accuracy: 0.6203 - loss: 0.9741 - val_accuracy: 0.7385 - val_loss: 0.6726\n",
            "Epoch 9/50\n",
            "\u001b[1m123/123\u001b[0m \u001b[32m━━━━━━━━━━━━━━━━━━━━\u001b[0m\u001b[37m\u001b[0m \u001b[1m55s\u001b[0m 428ms/step - accuracy: 0.6277 - loss: 0.9542 - val_accuracy: 0.7156 - val_loss: 0.7144\n",
            "Epoch 10/50\n",
            "\u001b[1m123/123\u001b[0m \u001b[32m━━━━━━━━━━━━━━━━━━━━\u001b[0m\u001b[37m\u001b[0m \u001b[1m54s\u001b[0m 421ms/step - accuracy: 0.6209 - loss: 0.9719 - val_accuracy: 0.7362 - val_loss: 0.6429\n",
            "Epoch 11/50\n",
            "\u001b[1m123/123\u001b[0m \u001b[32m━━━━━━━━━━━━━━━━━━━━\u001b[0m\u001b[37m\u001b[0m \u001b[1m83s\u001b[0m 435ms/step - accuracy: 0.6392 - loss: 0.9343 - val_accuracy: 0.7523 - val_loss: 0.6595\n",
            "Epoch 12/50\n",
            "\u001b[1m123/123\u001b[0m \u001b[32m━━━━━━━━━━━━━━━━━━━━\u001b[0m\u001b[37m\u001b[0m \u001b[1m54s\u001b[0m 424ms/step - accuracy: 0.6262 - loss: 0.9533 - val_accuracy: 0.7362 - val_loss: 0.7109\n",
            "Epoch 13/50\n",
            "\u001b[1m123/123\u001b[0m \u001b[32m━━━━━━━━━━━━━━━━━━━━\u001b[0m\u001b[37m\u001b[0m \u001b[1m54s\u001b[0m 419ms/step - accuracy: 0.6577 - loss: 0.9145 - val_accuracy: 0.7683 - val_loss: 0.6885\n",
            "Epoch 14/50\n",
            "\u001b[1m123/123\u001b[0m \u001b[32m━━━━━━━━━━━━━━━━━━━━\u001b[0m\u001b[37m\u001b[0m \u001b[1m85s\u001b[0m 443ms/step - accuracy: 0.6358 - loss: 0.9248 - val_accuracy: 0.7592 - val_loss: 0.6916\n",
            "Epoch 15/50\n",
            "\u001b[1m123/123\u001b[0m \u001b[32m━━━━━━━━━━━━━━━━━━━━\u001b[0m\u001b[37m\u001b[0m \u001b[1m79s\u001b[0m 419ms/step - accuracy: 0.6498 - loss: 0.9211 - val_accuracy: 0.7248 - val_loss: 0.7300\n",
            "\u001b[1m14/14\u001b[0m \u001b[32m━━━━━━━━━━━━━━━━━━━━\u001b[0m\u001b[37m\u001b[0m \u001b[1m1s\u001b[0m 87ms/step\n",
            "Found 3920 validated image filenames belonging to 5 classes.\n",
            "Found 436 validated image filenames belonging to 5 classes.\n",
            "Epoch 1/50\n"
          ]
        },
        {
          "output_type": "stream",
          "name": "stderr",
          "text": [
            "/usr/local/lib/python3.10/dist-packages/keras/src/trainers/data_adapters/py_dataset_adapter.py:122: UserWarning: Your `PyDataset` class should call `super().__init__(**kwargs)` in its constructor. `**kwargs` can include `workers`, `use_multiprocessing`, `max_queue_size`. Do not pass these arguments to `fit()`, as they will be ignored.\n",
            "  self._warn_if_super_not_called()\n"
          ]
        },
        {
          "output_type": "stream",
          "name": "stdout",
          "text": [
            "\u001b[1m123/123\u001b[0m \u001b[32m━━━━━━━━━━━━━━━━━━━━\u001b[0m\u001b[37m\u001b[0m \u001b[1m55s\u001b[0m 429ms/step - accuracy: 0.6487 - loss: 0.9286 - val_accuracy: 0.7500 - val_loss: 0.6417\n",
            "Epoch 2/50\n",
            "\u001b[1m123/123\u001b[0m \u001b[32m━━━━━━━━━━━━━━━━━━━━\u001b[0m\u001b[37m\u001b[0m \u001b[1m82s\u001b[0m 426ms/step - accuracy: 0.6425 - loss: 0.9341 - val_accuracy: 0.7339 - val_loss: 0.6831\n",
            "Epoch 3/50\n",
            "\u001b[1m123/123\u001b[0m \u001b[32m━━━━━━━━━━━━━━━━━━━━\u001b[0m\u001b[37m\u001b[0m \u001b[1m81s\u001b[0m 417ms/step - accuracy: 0.6282 - loss: 0.9396 - val_accuracy: 0.7592 - val_loss: 0.6119\n",
            "Epoch 4/50\n",
            "\u001b[1m123/123\u001b[0m \u001b[32m━━━━━━━━━━━━━━━━━━━━\u001b[0m\u001b[37m\u001b[0m \u001b[1m55s\u001b[0m 412ms/step - accuracy: 0.6408 - loss: 0.9193 - val_accuracy: 0.7729 - val_loss: 0.5933\n",
            "Epoch 5/50\n",
            "\u001b[1m123/123\u001b[0m \u001b[32m━━━━━━━━━━━━━━━━━━━━\u001b[0m\u001b[37m\u001b[0m \u001b[1m56s\u001b[0m 427ms/step - accuracy: 0.6406 - loss: 0.9337 - val_accuracy: 0.7592 - val_loss: 0.6046\n",
            "Epoch 6/50\n",
            "\u001b[1m123/123\u001b[0m \u001b[32m━━━━━━━━━━━━━━━━━━━━\u001b[0m\u001b[37m\u001b[0m \u001b[1m54s\u001b[0m 418ms/step - accuracy: 0.6326 - loss: 0.9591 - val_accuracy: 0.7890 - val_loss: 0.5939\n",
            "Epoch 7/50\n",
            "\u001b[1m123/123\u001b[0m \u001b[32m━━━━━━━━━━━━━━━━━━━━\u001b[0m\u001b[37m\u001b[0m \u001b[1m56s\u001b[0m 437ms/step - accuracy: 0.6489 - loss: 0.9095 - val_accuracy: 0.7271 - val_loss: 0.6953\n",
            "Epoch 8/50\n",
            "\u001b[1m123/123\u001b[0m \u001b[32m━━━━━━━━━━━━━━━━━━━━\u001b[0m\u001b[37m\u001b[0m \u001b[1m81s\u001b[0m 430ms/step - accuracy: 0.6469 - loss: 0.9061 - val_accuracy: 0.7729 - val_loss: 0.5698\n",
            "Epoch 9/50\n",
            "\u001b[1m123/123\u001b[0m \u001b[32m━━━━━━━━━━━━━━━━━━━━\u001b[0m\u001b[37m\u001b[0m \u001b[1m57s\u001b[0m 447ms/step - accuracy: 0.6409 - loss: 0.9281 - val_accuracy: 0.7661 - val_loss: 0.5926\n",
            "Epoch 10/50\n",
            "\u001b[1m123/123\u001b[0m \u001b[32m━━━━━━━━━━━━━━━━━━━━\u001b[0m\u001b[37m\u001b[0m \u001b[1m55s\u001b[0m 425ms/step - accuracy: 0.6443 - loss: 0.9119 - val_accuracy: 0.7569 - val_loss: 0.6045\n",
            "Epoch 11/50\n",
            "\u001b[1m123/123\u001b[0m \u001b[32m━━━━━━━━━━━━━━━━━━━━\u001b[0m\u001b[37m\u001b[0m \u001b[1m84s\u001b[0m 434ms/step - accuracy: 0.6705 - loss: 0.8793 - val_accuracy: 0.7752 - val_loss: 0.5837\n",
            "Epoch 12/50\n",
            "\u001b[1m123/123\u001b[0m \u001b[32m━━━━━━━━━━━━━━━━━━━━\u001b[0m\u001b[37m\u001b[0m \u001b[1m81s\u001b[0m 423ms/step - accuracy: 0.6440 - loss: 0.8953 - val_accuracy: 0.7775 - val_loss: 0.5537\n",
            "Epoch 13/50\n",
            "\u001b[1m123/123\u001b[0m \u001b[32m━━━━━━━━━━━━━━━━━━━━\u001b[0m\u001b[37m\u001b[0m \u001b[1m55s\u001b[0m 419ms/step - accuracy: 0.6682 - loss: 0.9018 - val_accuracy: 0.7913 - val_loss: 0.5658\n",
            "Epoch 14/50\n",
            "\u001b[1m123/123\u001b[0m \u001b[32m━━━━━━━━━━━━━━━━━━━━\u001b[0m\u001b[37m\u001b[0m \u001b[1m82s\u001b[0m 413ms/step - accuracy: 0.6453 - loss: 0.8999 - val_accuracy: 0.7844 - val_loss: 0.5941\n",
            "Epoch 15/50\n",
            "\u001b[1m123/123\u001b[0m \u001b[32m━━━━━━━━━━━━━━━━━━━━\u001b[0m\u001b[37m\u001b[0m \u001b[1m84s\u001b[0m 431ms/step - accuracy: 0.6520 - loss: 0.8994 - val_accuracy: 0.8142 - val_loss: 0.5306\n",
            "Epoch 16/50\n",
            "\u001b[1m123/123\u001b[0m \u001b[32m━━━━━━━━━━━━━━━━━━━━\u001b[0m\u001b[37m\u001b[0m \u001b[1m55s\u001b[0m 420ms/step - accuracy: 0.6677 - loss: 0.8901 - val_accuracy: 0.7775 - val_loss: 0.6130\n",
            "Epoch 17/50\n",
            "\u001b[1m123/123\u001b[0m \u001b[32m━━━━━━━━━━━━━━━━━━━━\u001b[0m\u001b[37m\u001b[0m \u001b[1m55s\u001b[0m 429ms/step - accuracy: 0.6536 - loss: 0.8848 - val_accuracy: 0.8096 - val_loss: 0.5222\n",
            "Epoch 18/50\n",
            "\u001b[1m123/123\u001b[0m \u001b[32m━━━━━━━━━━━━━━━━━━━━\u001b[0m\u001b[37m\u001b[0m \u001b[1m82s\u001b[0m 428ms/step - accuracy: 0.6443 - loss: 0.9112 - val_accuracy: 0.7615 - val_loss: 0.6657\n",
            "Epoch 19/50\n",
            "\u001b[1m123/123\u001b[0m \u001b[32m━━━━━━━━━━━━━━━━━━━━\u001b[0m\u001b[37m\u001b[0m \u001b[1m80s\u001b[0m 407ms/step - accuracy: 0.6617 - loss: 0.8697 - val_accuracy: 0.7890 - val_loss: 0.5551\n",
            "Epoch 20/50\n",
            "\u001b[1m123/123\u001b[0m \u001b[32m━━━━━━━━━━━━━━━━━━━━\u001b[0m\u001b[37m\u001b[0m \u001b[1m54s\u001b[0m 418ms/step - accuracy: 0.6939 - loss: 0.8294 - val_accuracy: 0.8165 - val_loss: 0.5304\n",
            "Epoch 21/50\n",
            "\u001b[1m123/123\u001b[0m \u001b[32m━━━━━━━━━━━━━━━━━━━━\u001b[0m\u001b[37m\u001b[0m \u001b[1m83s\u001b[0m 420ms/step - accuracy: 0.6771 - loss: 0.8805 - val_accuracy: 0.7821 - val_loss: 0.5812\n",
            "Epoch 22/50\n",
            "\u001b[1m123/123\u001b[0m \u001b[32m━━━━━━━━━━━━━━━━━━━━\u001b[0m\u001b[37m\u001b[0m \u001b[1m54s\u001b[0m 414ms/step - accuracy: 0.6750 - loss: 0.8700 - val_accuracy: 0.8234 - val_loss: 0.5613\n",
            "\u001b[1m14/14\u001b[0m \u001b[32m━━━━━━━━━━━━━━━━━━━━\u001b[0m\u001b[37m\u001b[0m \u001b[1m1s\u001b[0m 84ms/step\n",
            "Found 3920 validated image filenames belonging to 5 classes.\n",
            "Found 436 validated image filenames belonging to 5 classes.\n",
            "Epoch 1/50\n"
          ]
        },
        {
          "output_type": "stream",
          "name": "stderr",
          "text": [
            "/usr/local/lib/python3.10/dist-packages/keras/src/trainers/data_adapters/py_dataset_adapter.py:122: UserWarning: Your `PyDataset` class should call `super().__init__(**kwargs)` in its constructor. `**kwargs` can include `workers`, `use_multiprocessing`, `max_queue_size`. Do not pass these arguments to `fit()`, as they will be ignored.\n",
            "  self._warn_if_super_not_called()\n"
          ]
        },
        {
          "output_type": "stream",
          "name": "stdout",
          "text": [
            "\u001b[1m123/123\u001b[0m \u001b[32m━━━━━━━━━━━━━━━━━━━━\u001b[0m\u001b[37m\u001b[0m \u001b[1m54s\u001b[0m 418ms/step - accuracy: 0.6535 - loss: 0.8933 - val_accuracy: 0.8073 - val_loss: 0.5794\n",
            "Epoch 2/50\n",
            "\u001b[1m123/123\u001b[0m \u001b[32m━━━━━━━━━━━━━━━━━━━━\u001b[0m\u001b[37m\u001b[0m \u001b[1m81s\u001b[0m 408ms/step - accuracy: 0.6684 - loss: 0.8495 - val_accuracy: 0.7867 - val_loss: 0.6020\n",
            "Epoch 3/50\n",
            "\u001b[1m123/123\u001b[0m \u001b[32m━━━━━━━━━━━━━━━━━━━━\u001b[0m\u001b[37m\u001b[0m \u001b[1m81s\u001b[0m 406ms/step - accuracy: 0.6442 - loss: 0.8940 - val_accuracy: 0.7546 - val_loss: 0.6679\n",
            "Epoch 4/50\n",
            "\u001b[1m123/123\u001b[0m \u001b[32m━━━━━━━━━━━━━━━━━━━━\u001b[0m\u001b[37m\u001b[0m \u001b[1m53s\u001b[0m 412ms/step - accuracy: 0.6635 - loss: 0.8786 - val_accuracy: 0.7683 - val_loss: 0.6060\n",
            "Epoch 5/50\n",
            "\u001b[1m123/123\u001b[0m \u001b[32m━━━━━━━━━━━━━━━━━━━━\u001b[0m\u001b[37m\u001b[0m \u001b[1m84s\u001b[0m 417ms/step - accuracy: 0.6717 - loss: 0.8514 - val_accuracy: 0.7592 - val_loss: 0.6487\n",
            "\u001b[1m14/14\u001b[0m \u001b[32m━━━━━━━━━━━━━━━━━━━━\u001b[0m\u001b[37m\u001b[0m \u001b[1m1s\u001b[0m 84ms/step\n",
            "Found 3921 validated image filenames belonging to 5 classes.\n",
            "Found 435 validated image filenames belonging to 5 classes.\n",
            "Epoch 1/50\n"
          ]
        },
        {
          "output_type": "stream",
          "name": "stderr",
          "text": [
            "/usr/local/lib/python3.10/dist-packages/keras/src/trainers/data_adapters/py_dataset_adapter.py:122: UserWarning: Your `PyDataset` class should call `super().__init__(**kwargs)` in its constructor. `**kwargs` can include `workers`, `use_multiprocessing`, `max_queue_size`. Do not pass these arguments to `fit()`, as they will be ignored.\n",
            "  self._warn_if_super_not_called()\n"
          ]
        },
        {
          "output_type": "stream",
          "name": "stdout",
          "text": [
            "\u001b[1m123/123\u001b[0m \u001b[32m━━━━━━━━━━━━━━━━━━━━\u001b[0m\u001b[37m\u001b[0m \u001b[1m65s\u001b[0m 502ms/step - accuracy: 0.6647 - loss: 0.8749 - val_accuracy: 0.8230 - val_loss: 0.5026\n",
            "Epoch 2/50\n",
            "\u001b[1m123/123\u001b[0m \u001b[32m━━━━━━━━━━━━━━━━━━━━\u001b[0m\u001b[37m\u001b[0m \u001b[1m54s\u001b[0m 417ms/step - accuracy: 0.6795 - loss: 0.8519 - val_accuracy: 0.8023 - val_loss: 0.5812\n",
            "Epoch 3/50\n",
            "\u001b[1m123/123\u001b[0m \u001b[32m━━━━━━━━━━━━━━━━━━━━\u001b[0m\u001b[37m\u001b[0m \u001b[1m55s\u001b[0m 430ms/step - accuracy: 0.6745 - loss: 0.8825 - val_accuracy: 0.7379 - val_loss: 0.6596\n",
            "Epoch 4/50\n",
            "\u001b[1m123/123\u001b[0m \u001b[32m━━━━━━━━━━━━━━━━━━━━\u001b[0m\u001b[37m\u001b[0m \u001b[1m80s\u001b[0m 414ms/step - accuracy: 0.6809 - loss: 0.8346 - val_accuracy: 0.7770 - val_loss: 0.5919\n",
            "Epoch 5/50\n",
            "\u001b[1m123/123\u001b[0m \u001b[32m━━━━━━━━━━━━━━━━━━━━\u001b[0m\u001b[37m\u001b[0m \u001b[1m53s\u001b[0m 415ms/step - accuracy: 0.6907 - loss: 0.8569 - val_accuracy: 0.8322 - val_loss: 0.5318\n",
            "Epoch 6/50\n",
            "\u001b[1m123/123\u001b[0m \u001b[32m━━━━━━━━━━━━━━━━━━━━\u001b[0m\u001b[37m\u001b[0m \u001b[1m85s\u001b[0m 441ms/step - accuracy: 0.6699 - loss: 0.8666 - val_accuracy: 0.7701 - val_loss: 0.5673\n",
            "\u001b[1m14/14\u001b[0m \u001b[32m━━━━━━━━━━━━━━━━━━━━\u001b[0m\u001b[37m\u001b[0m \u001b[1m2s\u001b[0m 180ms/step\n",
            "Found 3921 validated image filenames belonging to 5 classes.\n",
            "Found 435 validated image filenames belonging to 5 classes.\n",
            "Epoch 1/50\n"
          ]
        },
        {
          "output_type": "stream",
          "name": "stderr",
          "text": [
            "/usr/local/lib/python3.10/dist-packages/keras/src/trainers/data_adapters/py_dataset_adapter.py:122: UserWarning: Your `PyDataset` class should call `super().__init__(**kwargs)` in its constructor. `**kwargs` can include `workers`, `use_multiprocessing`, `max_queue_size`. Do not pass these arguments to `fit()`, as they will be ignored.\n",
            "  self._warn_if_super_not_called()\n"
          ]
        },
        {
          "output_type": "stream",
          "name": "stdout",
          "text": [
            "\u001b[1m123/123\u001b[0m \u001b[32m━━━━━━━━━━━━━━━━━━━━\u001b[0m\u001b[37m\u001b[0m \u001b[1m54s\u001b[0m 422ms/step - accuracy: 0.6756 - loss: 0.8665 - val_accuracy: 0.7609 - val_loss: 0.5767\n",
            "Epoch 2/50\n",
            "\u001b[1m123/123\u001b[0m \u001b[32m━━━━━━━━━━━━━━━━━━━━\u001b[0m\u001b[37m\u001b[0m \u001b[1m81s\u001b[0m 413ms/step - accuracy: 0.6774 - loss: 0.8789 - val_accuracy: 0.8023 - val_loss: 0.5888\n",
            "Epoch 3/50\n",
            "\u001b[1m123/123\u001b[0m \u001b[32m━━━━━━━━━━━━━━━━━━━━\u001b[0m\u001b[37m\u001b[0m \u001b[1m56s\u001b[0m 436ms/step - accuracy: 0.6697 - loss: 0.8697 - val_accuracy: 0.7931 - val_loss: 0.5909\n",
            "Epoch 4/50\n",
            "\u001b[1m123/123\u001b[0m \u001b[32m━━━━━━━━━━━━━━━━━━━━\u001b[0m\u001b[37m\u001b[0m \u001b[1m56s\u001b[0m 426ms/step - accuracy: 0.6643 - loss: 0.8636 - val_accuracy: 0.8276 - val_loss: 0.5338\n",
            "Epoch 5/50\n",
            "\u001b[1m123/123\u001b[0m \u001b[32m━━━━━━━━━━━━━━━━━━━━\u001b[0m\u001b[37m\u001b[0m \u001b[1m54s\u001b[0m 420ms/step - accuracy: 0.6713 - loss: 0.8453 - val_accuracy: 0.8069 - val_loss: 0.5364\n",
            "\u001b[1m14/14\u001b[0m \u001b[32m━━━━━━━━━━━━━━━━━━━━\u001b[0m\u001b[37m\u001b[0m \u001b[1m1s\u001b[0m 82ms/step\n",
            "Found 3921 validated image filenames belonging to 5 classes.\n",
            "Found 435 validated image filenames belonging to 5 classes.\n",
            "Epoch 1/50\n"
          ]
        },
        {
          "output_type": "stream",
          "name": "stderr",
          "text": [
            "/usr/local/lib/python3.10/dist-packages/keras/src/trainers/data_adapters/py_dataset_adapter.py:122: UserWarning: Your `PyDataset` class should call `super().__init__(**kwargs)` in its constructor. `**kwargs` can include `workers`, `use_multiprocessing`, `max_queue_size`. Do not pass these arguments to `fit()`, as they will be ignored.\n",
            "  self._warn_if_super_not_called()\n"
          ]
        },
        {
          "output_type": "stream",
          "name": "stdout",
          "text": [
            "\u001b[1m123/123\u001b[0m \u001b[32m━━━━━━━━━━━━━━━━━━━━\u001b[0m\u001b[37m\u001b[0m \u001b[1m55s\u001b[0m 427ms/step - accuracy: 0.6914 - loss: 0.8439 - val_accuracy: 0.7632 - val_loss: 0.6233\n",
            "Epoch 2/50\n",
            "\u001b[1m123/123\u001b[0m \u001b[32m━━━━━━━━━━━━━━━━━━━━\u001b[0m\u001b[37m\u001b[0m \u001b[1m84s\u001b[0m 445ms/step - accuracy: 0.6718 - loss: 0.8764 - val_accuracy: 0.7494 - val_loss: 0.6621\n",
            "Epoch 3/50\n",
            "\u001b[1m123/123\u001b[0m \u001b[32m━━━━━━━━━━━━━━━━━━━━\u001b[0m\u001b[37m\u001b[0m \u001b[1m55s\u001b[0m 425ms/step - accuracy: 0.6792 - loss: 0.8445 - val_accuracy: 0.8092 - val_loss: 0.5303\n",
            "Epoch 4/50\n",
            "\u001b[1m123/123\u001b[0m \u001b[32m━━━━━━━━━━━━━━━━━━━━\u001b[0m\u001b[37m\u001b[0m \u001b[1m55s\u001b[0m 425ms/step - accuracy: 0.6654 - loss: 0.8594 - val_accuracy: 0.7839 - val_loss: 0.5953\n",
            "Epoch 5/50\n",
            "\u001b[1m123/123\u001b[0m \u001b[32m━━━━━━━━━━━━━━━━━━━━\u001b[0m\u001b[37m\u001b[0m \u001b[1m84s\u001b[0m 441ms/step - accuracy: 0.6707 - loss: 0.8570 - val_accuracy: 0.7011 - val_loss: 0.7151\n",
            "\u001b[1m14/14\u001b[0m \u001b[32m━━━━━━━━━━━━━━━━━━━━\u001b[0m\u001b[37m\u001b[0m \u001b[1m1s\u001b[0m 83ms/step\n",
            "Found 3921 validated image filenames belonging to 5 classes.\n",
            "Found 435 validated image filenames belonging to 5 classes.\n",
            "Epoch 1/50\n"
          ]
        },
        {
          "output_type": "stream",
          "name": "stderr",
          "text": [
            "/usr/local/lib/python3.10/dist-packages/keras/src/trainers/data_adapters/py_dataset_adapter.py:122: UserWarning: Your `PyDataset` class should call `super().__init__(**kwargs)` in its constructor. `**kwargs` can include `workers`, `use_multiprocessing`, `max_queue_size`. Do not pass these arguments to `fit()`, as they will be ignored.\n",
            "  self._warn_if_super_not_called()\n"
          ]
        },
        {
          "output_type": "stream",
          "name": "stdout",
          "text": [
            "\u001b[1m123/123\u001b[0m \u001b[32m━━━━━━━━━━━━━━━━━━━━\u001b[0m\u001b[37m\u001b[0m \u001b[1m55s\u001b[0m 425ms/step - accuracy: 0.6572 - loss: 0.8955 - val_accuracy: 0.7885 - val_loss: 0.5862\n",
            "Epoch 2/50\n",
            "\u001b[1m123/123\u001b[0m \u001b[32m━━━━━━━━━━━━━━━━━━━━\u001b[0m\u001b[37m\u001b[0m \u001b[1m55s\u001b[0m 425ms/step - accuracy: 0.6594 - loss: 0.8588 - val_accuracy: 0.7954 - val_loss: 0.5793\n",
            "Epoch 3/50\n",
            "\u001b[1m123/123\u001b[0m \u001b[32m━━━━━━━━━━━━━━━━━━━━\u001b[0m\u001b[37m\u001b[0m \u001b[1m84s\u001b[0m 437ms/step - accuracy: 0.6928 - loss: 0.8347 - val_accuracy: 0.7701 - val_loss: 0.6373\n",
            "Epoch 4/50\n",
            "\u001b[1m123/123\u001b[0m \u001b[32m━━━━━━━━━━━━━━━━━━━━\u001b[0m\u001b[37m\u001b[0m \u001b[1m79s\u001b[0m 414ms/step - accuracy: 0.6721 - loss: 0.8594 - val_accuracy: 0.7977 - val_loss: 0.6043\n",
            "Epoch 5/50\n",
            "\u001b[1m123/123\u001b[0m \u001b[32m━━━━━━━━━━━━━━━━━━━━\u001b[0m\u001b[37m\u001b[0m \u001b[1m82s\u001b[0m 414ms/step - accuracy: 0.6811 - loss: 0.8298 - val_accuracy: 0.7471 - val_loss: 0.6588\n",
            "\u001b[1m14/14\u001b[0m \u001b[32m━━━━━━━━━━━━━━━━━━━━\u001b[0m\u001b[37m\u001b[0m \u001b[1m1s\u001b[0m 100ms/step\n"
          ]
        }
      ]
    },
    {
      "cell_type": "markdown",
      "source": [
        "# Results and Visualization"
      ],
      "metadata": {
        "id": "NLEnnCLt3ydq"
      }
    },
    {
      "cell_type": "code",
      "source": [
        "# print out the results\n",
        "print(\"Average accuracy for each label:\")\n",
        "for label, avg_acc in average_label_accuracies.items():\n",
        "    print(f\"{label}: {avg_acc:.4f}\")\n",
        "\n",
        "avg_accuracy = np.mean(accuracies)\n",
        "avg_f1_score = np.mean(f1_scores)\n",
        "\n",
        "print(f\"\\nAverage overall accuracy: {avg_accuracy:.4f}\")\n",
        "print(f\"Average weighted F1 score: {avg_f1_score:.4f}\")"
      ],
      "metadata": {
        "id": "wL4HCfKv31pr",
        "outputId": "5961fb04-0dc2-46ca-f595-23a8c2b8165f",
        "colab": {
          "base_uri": "https://localhost:8080/"
        }
      },
      "execution_count": 6,
      "outputs": [
        {
          "output_type": "stream",
          "name": "stdout",
          "text": [
            "Average accuracy for each label:\n",
            "pickup: 0.4040\n",
            "suv: 0.1176\n",
            "other: 0.1283\n",
            "hatchback: 0.0927\n",
            "sedan: 0.2951\n",
            "\n",
            "Average overall accuracy: 0.2473\n",
            "Average weighted F1 score: 0.2333\n"
          ]
        }
      ]
    },
    {
      "cell_type": "code",
      "source": [
        "import matplotlib.pyplot as plt\n",
        "from sklearn.metrics import roc_curve, auc\n",
        "from sklearn.preprocessing import LabelBinarizer\n",
        "from sklearn.metrics import roc_auc_score\n",
        "\n",
        "y_true_all = []\n",
        "y_probs_all = []\n",
        "\n",
        "# store true labels and predicted probabilities for ROC curve\n",
        "y_true_all.append(y_true)\n",
        "y_probs_all.append(y_pred)\n",
        "\n",
        "# array conversion\n",
        "y_true_all = np.concatenate(y_true_all, axis=0)\n",
        "y_probs_all = np.concatenate(y_probs_all, axis=0)\n",
        "\n",
        "# Binarize the true labels (multi-class to binary for each class)\n",
        "lb = LabelBinarizer()\n",
        "y_true_bin = lb.fit_transform(y_true_all)\n",
        "\n",
        "# Plot ROC curve for each class\n",
        "n_classes = y_true_bin.shape[1]\n",
        "plt.figure(figsize=(10, 8))\n",
        "\n",
        "# Loop over each class to plot its ROC curve\n",
        "for i in range(n_classes):\n",
        "    fpr, tpr, _ = roc_curve(y_true_bin[:, i], y_probs_all[:, i])\n",
        "    roc_auc = auc(fpr, tpr)\n",
        "    # Use lb.classes_ to get the actual class name for the index 'i'\n",
        "    class_name = lb.classes_[i]\n",
        "    # Plot the ROC curve for the current class with its AUC score\n",
        "    plt.plot(fpr, tpr, lw=2, label=f'{class_name} (AUC = {roc_auc:.2f})')\n",
        "\n",
        "# Plot the diagonal line (random classifier)\n",
        "plt.plot([0, 1], [0, 1], color='gray', linestyle='--', lw=2)\n",
        "\n",
        "# Formatting the plot\n",
        "plt.xlabel('False Positive Rate')\n",
        "plt.ylabel('True Positive Rate')\n",
        "plt.title('Receiver Operating Characteristic (ROC) Curve for Multi-Class Classification')\n",
        "\n",
        "# Show the legend with class names and AUC values\n",
        "plt.legend(loc='lower right')\n",
        "plt.show()\n"
      ],
      "metadata": {
        "id": "ZprDzTyF34lb",
        "colab": {
          "base_uri": "https://localhost:8080/",
          "height": 718
        },
        "outputId": "023b8882-6306-45c3-e1ca-06a17b325865"
      },
      "execution_count": 7,
      "outputs": [
        {
          "output_type": "display_data",
          "data": {
            "text/plain": [
              "<Figure size 1000x800 with 1 Axes>"
            ],
            "image/png": "[encoded data removed]"
          },
          "metadata": {}
        }
      ]
    }
  ],
  "metadata": {
    "colab": {
      "provenance": [],
      "gpuType": "T4",
      "include_colab_link": true
    },
    "kernelspec": {
      "display_name": "Python 3",
      "name": "python3"
    },
    "language_info": {
      "name": "python"
    },
    "accelerator": "GPU"
  },
  "nbformat": 4,
  "nbformat_minor": 0
}